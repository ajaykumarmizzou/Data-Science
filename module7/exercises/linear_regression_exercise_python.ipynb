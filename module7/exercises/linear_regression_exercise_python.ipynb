{
 "cells": [
  {
   "cell_type": "markdown",
   "metadata": {},
   "source": [
    "# Module 7 - Exercise - Linear Regression with `Python`\n",
    "\n",
    "This exercise is going to be a little different in the sense that we won't be guiding in a question-by-question format. Instead, we are going to let you construct a linear model in your choice of either `R` or `Python`, whichever you prefer.\n",
    "\n",
    "The prediction problem is to predict `height` from the `'/dsa/data/all_datasets/stature-hand-foot/stature-hand-foot.csv'` dataset. You can use any variable (or combination of variables) in order to predict `height`.\n",
    "\n",
    "You are not going to be graded upon the performance of the model itself, but please approach this as an actual prediction problem. That being said, you should split the data into training and testing sets, in which your model is trained on your training set while the performance is assessed on the testing set. Be sure to predict some output with your testing inputs.\n",
    "\n",
    "The purpose of this assignment is to demonstrate your ability to use regression to develop a machine learning model. Feel free to include anything that demonstrates your understanding of model development and model refinement including data exploration as well as a written description of your reasoning. \n",
    "\n",
    "Like always, feel free to ask questions along the way if you get stuck at any point. We are more than happy to help!\n",
    "\n",
    "To add execution cells, click in this cell.\n",
    "Then, in the notebook menu: `Insert > Insert Cell Below`"
   ]
  },
  {
   "cell_type": "code",
   "execution_count": 98,
   "metadata": {},
   "outputs": [],
   "source": [
    "#Importing libraries\n",
    "import pandas as pd\n",
    "import numpy as np\n",
    "from sklearn import linear_model\n",
    "from scipy.stats import pearsonr,spearmanr"
   ]
  },
  {
   "cell_type": "code",
   "execution_count": 87,
   "metadata": {},
   "outputs": [
    {
     "name": "stdout",
     "output_type": "stream",
     "text": [
      "   gender  height  hand length   foot length\n",
      "0       1  1760.2        208.6         269.6\n",
      "1       1  1730.1        207.6         251.3\n",
      "2       1  1659.6        173.2         193.6\n",
      "3       1  1751.3        258.0         223.8\n",
      "4       1  1780.6        212.3         282.1\n"
     ]
    }
   ],
   "source": [
    "#Data aquisition\n",
    "with open('/dsa/data/all_datasets/stature-hand-foot/stature-hand-foot.csv') as file:\n",
    "    df = pd.read_csv(file)\n",
    "print(df.head())"
   ]
  },
  {
   "cell_type": "code",
   "execution_count": 96,
   "metadata": {},
   "outputs": [],
   "source": [
    "#Data preprocessing\n",
    "gender = pd.get_dummies(df['gender']) #Converting gender into dummy  input\n",
    "new_df = pd.concat([gender,df],axis=1)\n",
    "train = new_df.sample(frac=0.6,random_state=1) #60:40 training : testing split ration\n",
    "test = new_df.drop(train.index)\n",
    "train_X = np.asarray(train.iloc[:,[0,1,4,5]]) #Used combination of all inputs to predict height\n",
    "train_y = np.asarray(train[['height']])\n",
    "test_X = np.asarray(test.iloc[:,[0,1,4,5]])\n",
    "test_y = np.asarray(test[['height']])"
   ]
  },
  {
   "cell_type": "code",
   "execution_count": 103,
   "metadata": {},
   "outputs": [
    {
     "name": "stdout",
     "output_type": "stream",
     "text": [
      "R-Squared: 0.8650774035876797\n",
      "R-Squared: 0.8865903282766516\n",
      "(array([0.93009537]), array([2.34869598e-41]))\n",
      "(array([0.94860038]), array([1.13155723e-31]))\n"
     ]
    }
   ],
   "source": [
    "#Model fitting and prediction\n",
    "regr = linear_model.LinearRegression()\n",
    "regr.fit(train_X,train_y)\n",
    "print('R-Squared: {}'.format(regr.score(train_X, train_y)))\n",
    "print('R-Squared: {}'.format(regr.score(test_X, test_y)))\n",
    "train_pred = regr.predict(train_X)\n",
    "test_pred = regr.predict(test_X)\n",
    "print(pearsonr(train_y,train_pred))\n",
    "print(pearsonr(test_y,test_pred))\n",
    "#Pearson correlation and R squared is high in testing dataset than training dataset. "
   ]
  },
  {
   "cell_type": "markdown",
   "metadata": {},
   "source": [
    "# Save your notebook, then `File > Close and Halt`"
   ]
  }
 ],
 "metadata": {
  "kernelspec": {
   "display_name": "Python 3",
   "language": "python",
   "name": "python3"
  },
  "language_info": {
   "codemirror_mode": {
    "name": "ipython",
    "version": 3
   },
   "file_extension": ".py",
   "mimetype": "text/x-python",
   "name": "python",
   "nbconvert_exporter": "python",
   "pygments_lexer": "ipython3",
   "version": "3.7.3"
  }
 },
 "nbformat": 4,
 "nbformat_minor": 1
}
