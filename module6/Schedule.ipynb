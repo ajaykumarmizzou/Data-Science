{
 "cells": [
  {
   "cell_type": "markdown",
   "metadata": {},
   "source": [
    "# Module 6: Machine Learning - Basic Modeling Part 1"
   ]
  },
  {
   "cell_type": "markdown",
   "metadata": {},
   "source": [
    "----\n",
    "\n",
    "## Topics covered\n",
    "  - What is Machine Learning?\n",
    "  - Choosing a Machine Learning Algorithm that Fits your Data\n",
    "  - Introduction to Decision Trees and Naive Bayes Classification\n",
    "  - Packages for Performing Decision Trees and Naive Bayes Classification"
   ]
  },
  {
   "cell_type": "markdown",
   "metadata": {},
   "source": [
    "## Objective\n",
    "- Students will become familiar with and perform Naive Bayes and Decision Tree algorthims.\n",
    "\n"
   ]
  },
  {
   "cell_type": "markdown",
   "metadata": {},
   "source": [
    "## Readings - web-based readings\n",
    "Naive Bayes (Choose 1 or more)\n",
    "- [6 Easy Steps to Learn Naive Bayes Algorithm with codes in Python and R](https://www.analyticsvidhya.com/blog/2017/09/naive-bayes-explained/#:~:text=Naive%20Bayes%20Model-,What%20is%20Naive%20Bayes%20algorithm%3F,presence%20of%20any%20other%20feature.)\n",
    "- [How the Naive Bayes Classifier Works in Machine Learning](http://dataaspirant.com/2017/02/06/naive-bayes-classifier-machine-learning/) \n",
    "- [Naive Bayes Classifier](https://en.wikipedia.org/wiki/Naive_Bayes_classifier#Probabilistic_model) \n",
    "\n",
    "\n",
    "Decision Trees (Choose 1 or more)\n",
    "- [A Visual Introduction to Machine Learning](http://www.r2d3.us/visual-intro-to-machine-learning-part-1/)\n",
    "- [Decision Tree Learning](https://en.wikipedia.org/wiki/Decision_tree_learning)"
   ]
  },
  {
   "cell_type": "markdown",
   "metadata": {},
   "source": [
    "## Videos\n",
    "- [Naive Bayes](https://youtu.be/WDZ832eFGlQ)\n",
    "- [Decision Tree](https://youtu.be/R5AsCRAhOd0)"
   ]
  },
  {
   "cell_type": "markdown",
   "metadata": {},
   "source": [
    "## Labs, Practices and Exercises\n",
    "\n",
    "### Labs\n",
    "- [Introduction to Naive Bayes Classification with `Python`](labs/intro-A_naive_bayes_python.ipynb)\n",
    "- [Introduction to Decision Tree Classification with `R`](labs/intro-B_decision_tree_r.ipynb)\n",
    "\n",
    "### Practices \n",
    "- [Practice Decision Tree with `Python`](practices/practice-A_ml_python.ipynb)\n",
    "    - [Answers](answers/practice_ml_python.ipynb)\n",
    "- [Practice Naive Bayes with `R`](practices/practice-B_ml_r.ipynb)\n",
    "    - [Answers](answers/practice_ml_r.ipynb)\n",
    "\n",
    "\n",
    "### Exercises (Complete one of the following)\n",
    "- [`Python` Machine Learning Exercises](exercises/ml_exercise-B_python.ipynb)\n",
    "- [`R` Machine Learning Exercises](exercises/ml_exercise-A_r.ipynb)\n",
    "\n",
    "\n",
    "\n"
   ]
  },
  {
   "cell_type": "markdown",
   "metadata": {},
   "source": [
    "# Submit Your Work\n",
    "\n",
    "Be sure you have submitted your practices and exercises for this Module!\n",
    " * [See Module 1, Submission of Work](../module1/labs/CommittingWork.ipynb)\n",
    "\n",
    "It is best practice to create a save point (commit) after each interval of work, e.g., when you are done for the day or you have completed a notebook."
   ]
  },
  {
   "cell_type": "markdown",
   "metadata": {},
   "source": [
    "## Data Sets\n",
    "\n",
    "*built-in*\n",
    "Dataset Name | Library\n",
    "-------------|--------\n",
    "`iris`       | `sklearn`\n",
    "\n",
    "path: `/dsa/data/all_datasets/`\n",
    "\n",
    "Dataset Name | File\n",
    "-------------|--------\n",
    "Red Wine Quality | `wine-quality/winequality-red.csv`\n",
    "\n"
   ]
  },
  {
   "cell_type": "code",
   "execution_count": null,
   "metadata": {},
   "outputs": [],
   "source": []
  }
 ],
 "metadata": {
  "kernelspec": {
   "display_name": "Python 3",
   "language": "python",
   "name": "python3"
  },
  "language_info": {
   "codemirror_mode": {
    "name": "ipython",
    "version": 3
   },
   "file_extension": ".py",
   "mimetype": "text/x-python",
   "name": "python",
   "nbconvert_exporter": "python",
   "pygments_lexer": "ipython3",
   "version": "3.7.3"
  }
 },
 "nbformat": 4,
 "nbformat_minor": 1
}
