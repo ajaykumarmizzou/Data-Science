{
 "cells": [
  {
   "cell_type": "markdown",
   "metadata": {},
   "source": [
    "# Data Science with `R` Practice\n",
    "\n",
    "This practice will be going over the fundamentals of data science with `R`. Much of the content will be similar to your lab, [Introduction to Data Science with R](../labs/intro_data_science_r.ipynb), and thus it will serve as a good guide post to answering some of the questions. We'll begin today with reading in the data..."
   ]
  },
  {
   "cell_type": "markdown",
   "metadata": {},
   "source": [
    "## Read in the Data"
   ]
  },
  {
   "cell_type": "code",
   "execution_count": 34,
   "metadata": {},
   "outputs": [
    {
     "data": {
      "text/html": [
       "<table>\n",
       "<caption>A data.frame: 6 × 5</caption>\n",
       "<thead>\n",
       "\t<tr><th scope=col>Id</th><th scope=col>Name</th><th scope=col>Year</th><th scope=col>Gender</th><th scope=col>Count</th></tr>\n",
       "\t<tr><th scope=col>&lt;int&gt;</th><th scope=col>&lt;fct&gt;</th><th scope=col>&lt;int&gt;</th><th scope=col>&lt;fct&gt;</th><th scope=col>&lt;int&gt;</th></tr>\n",
       "</thead>\n",
       "<tbody>\n",
       "\t<tr><td> 4</td><td>Elizabeth</td><td>1880</td><td>F</td><td>1939</td></tr>\n",
       "\t<tr><td> 8</td><td>Alice    </td><td>1880</td><td>F</td><td>1414</td></tr>\n",
       "\t<tr><td>12</td><td>Clara    </td><td>1880</td><td>F</td><td>1226</td></tr>\n",
       "\t<tr><td>13</td><td>Ella     </td><td>1880</td><td>F</td><td>1156</td></tr>\n",
       "\t<tr><td>18</td><td>Nellie   </td><td>1880</td><td>F</td><td> 995</td></tr>\n",
       "\t<tr><td>21</td><td>Maude    </td><td>1880</td><td>F</td><td> 858</td></tr>\n",
       "</tbody>\n",
       "</table>\n"
      ],
      "text/latex": [
       "A data.frame: 6 × 5\n",
       "\\begin{tabular}{r|lllll}\n",
       " Id & Name & Year & Gender & Count\\\\\n",
       " <int> & <fct> & <int> & <fct> & <int>\\\\\n",
       "\\hline\n",
       "\t  4 & Elizabeth & 1880 & F & 1939\\\\\n",
       "\t  8 & Alice     & 1880 & F & 1414\\\\\n",
       "\t 12 & Clara     & 1880 & F & 1226\\\\\n",
       "\t 13 & Ella      & 1880 & F & 1156\\\\\n",
       "\t 18 & Nellie    & 1880 & F &  995\\\\\n",
       "\t 21 & Maude     & 1880 & F &  858\\\\\n",
       "\\end{tabular}\n"
      ],
      "text/markdown": [
       "\n",
       "A data.frame: 6 × 5\n",
       "\n",
       "| Id &lt;int&gt; | Name &lt;fct&gt; | Year &lt;int&gt; | Gender &lt;fct&gt; | Count &lt;int&gt; |\n",
       "|---|---|---|---|---|\n",
       "|  4 | Elizabeth | 1880 | F | 1939 |\n",
       "|  8 | Alice     | 1880 | F | 1414 |\n",
       "| 12 | Clara     | 1880 | F | 1226 |\n",
       "| 13 | Ella      | 1880 | F | 1156 |\n",
       "| 18 | Nellie    | 1880 | F |  995 |\n",
       "| 21 | Maude     | 1880 | F |  858 |\n",
       "\n"
      ],
      "text/plain": [
       "  Id Name      Year Gender Count\n",
       "1  4 Elizabeth 1880 F      1939 \n",
       "2  8 Alice     1880 F      1414 \n",
       "3 12 Clara     1880 F      1226 \n",
       "4 13 Ella      1880 F      1156 \n",
       "5 18 Nellie    1880 F       995 \n",
       "6 21 Maude     1880 F       858 "
      ]
     },
     "metadata": {},
     "output_type": "display_data"
    }
   ],
   "source": [
    "df <- read.csv('/dsa/data/all_datasets/baby-names/NationalNames2.csv')\n",
    "head(df)"
   ]
  },
  {
   "cell_type": "markdown",
   "metadata": {},
   "source": [
    "Now that the data is read in, how would you remove the `Id` column from the dataframe in `R`. Remember, `R` is very flexible so there are several ways to remove columns. Do the following:\n",
    "\n",
    "**Activity 1**: Remove the column `Id` from the dataframe and rename this data frame, `df`.\n",
    "\n",
    "**Activity 2**: Find the dimensions (the number of rows and columns) of this updated data frame. *Hint: You will have to look up the function to do this as it was not mentioned in the lab*. \n",
    "\n",
    "**Activity 3**: Display the ***last*** 10 columns of the updated data frame."
   ]
  },
  {
   "cell_type": "code",
   "execution_count": 35,
   "metadata": {},
   "outputs": [
    {
     "data": {
      "text/html": [
       "<table>\n",
       "<caption>A data.frame: 6 × 4</caption>\n",
       "<thead>\n",
       "\t<tr><th scope=col>Name</th><th scope=col>Year</th><th scope=col>Gender</th><th scope=col>Count</th></tr>\n",
       "\t<tr><th scope=col>&lt;fct&gt;</th><th scope=col>&lt;int&gt;</th><th scope=col>&lt;fct&gt;</th><th scope=col>&lt;int&gt;</th></tr>\n",
       "</thead>\n",
       "<tbody>\n",
       "\t<tr><td>Elizabeth</td><td>1880</td><td>F</td><td>1939</td></tr>\n",
       "\t<tr><td>Alice    </td><td>1880</td><td>F</td><td>1414</td></tr>\n",
       "\t<tr><td>Clara    </td><td>1880</td><td>F</td><td>1226</td></tr>\n",
       "\t<tr><td>Ella     </td><td>1880</td><td>F</td><td>1156</td></tr>\n",
       "\t<tr><td>Nellie   </td><td>1880</td><td>F</td><td> 995</td></tr>\n",
       "\t<tr><td>Maude    </td><td>1880</td><td>F</td><td> 858</td></tr>\n",
       "</tbody>\n",
       "</table>\n"
      ],
      "text/latex": [
       "A data.frame: 6 × 4\n",
       "\\begin{tabular}{r|llll}\n",
       " Name & Year & Gender & Count\\\\\n",
       " <fct> & <int> & <fct> & <int>\\\\\n",
       "\\hline\n",
       "\t Elizabeth & 1880 & F & 1939\\\\\n",
       "\t Alice     & 1880 & F & 1414\\\\\n",
       "\t Clara     & 1880 & F & 1226\\\\\n",
       "\t Ella      & 1880 & F & 1156\\\\\n",
       "\t Nellie    & 1880 & F &  995\\\\\n",
       "\t Maude     & 1880 & F &  858\\\\\n",
       "\\end{tabular}\n"
      ],
      "text/markdown": [
       "\n",
       "A data.frame: 6 × 4\n",
       "\n",
       "| Name &lt;fct&gt; | Year &lt;int&gt; | Gender &lt;fct&gt; | Count &lt;int&gt; |\n",
       "|---|---|---|---|\n",
       "| Elizabeth | 1880 | F | 1939 |\n",
       "| Alice     | 1880 | F | 1414 |\n",
       "| Clara     | 1880 | F | 1226 |\n",
       "| Ella      | 1880 | F | 1156 |\n",
       "| Nellie    | 1880 | F |  995 |\n",
       "| Maude     | 1880 | F |  858 |\n",
       "\n"
      ],
      "text/plain": [
       "  Name      Year Gender Count\n",
       "1 Elizabeth 1880 F      1939 \n",
       "2 Alice     1880 F      1414 \n",
       "3 Clara     1880 F      1226 \n",
       "4 Ella      1880 F      1156 \n",
       "5 Nellie    1880 F       995 \n",
       "6 Maude     1880 F       858 "
      ]
     },
     "metadata": {},
     "output_type": "display_data"
    }
   ],
   "source": [
    "#' Code for Activity 1 goes here -----------------------\n",
    "df = subset(df,select=-Id)\n",
    "head(df)"
   ]
  },
  {
   "cell_type": "code",
   "execution_count": 29,
   "metadata": {},
   "outputs": [
    {
     "data": {
      "text/html": [
       "<ol class=list-inline>\n",
       "\t<li>608892</li>\n",
       "\t<li>4</li>\n",
       "</ol>\n"
      ],
      "text/latex": [
       "\\begin{enumerate*}\n",
       "\\item 608892\n",
       "\\item 4\n",
       "\\end{enumerate*}\n"
      ],
      "text/markdown": [
       "1. 608892\n",
       "2. 4\n",
       "\n",
       "\n"
      ],
      "text/plain": [
       "[1] 608892      4"
      ]
     },
     "metadata": {},
     "output_type": "display_data"
    },
    {
     "data": {
      "text/html": [
       "608892"
      ],
      "text/latex": [
       "608892"
      ],
      "text/markdown": [
       "608892"
      ],
      "text/plain": [
       "[1] 608892"
      ]
     },
     "metadata": {},
     "output_type": "display_data"
    },
    {
     "data": {
      "text/html": [
       "4"
      ],
      "text/latex": [
       "4"
      ],
      "text/markdown": [
       "4"
      ],
      "text/plain": [
       "[1] 4"
      ]
     },
     "metadata": {},
     "output_type": "display_data"
    },
    {
     "data": {
      "text/html": [
       "4"
      ],
      "text/latex": [
       "4"
      ],
      "text/markdown": [
       "4"
      ],
      "text/plain": [
       "[1] 4"
      ]
     },
     "metadata": {},
     "output_type": "display_data"
    }
   ],
   "source": [
    "#' Code for Activity 2 goes here -----------------------\n",
    "dim(df) #Number of rows followed by number of columns\n",
    "nrow(df) #Number of rows\n",
    "ncol(df) #Number of columns\n",
    "length(df) #Number of columns"
   ]
  },
  {
   "cell_type": "code",
   "execution_count": 30,
   "metadata": {},
   "outputs": [
    {
     "data": {
      "text/html": [
       "<table>\n",
       "<caption>A data.frame: 10 × 4</caption>\n",
       "<thead>\n",
       "\t<tr><th></th><th scope=col>Name</th><th scope=col>Year</th><th scope=col>Gender</th><th scope=col>Count</th></tr>\n",
       "\t<tr><th></th><th scope=col>&lt;fct&gt;</th><th scope=col>&lt;int&gt;</th><th scope=col>&lt;fct&gt;</th><th scope=col>&lt;int&gt;</th></tr>\n",
       "</thead>\n",
       "<tbody>\n",
       "\t<tr><th scope=row>608883</th><td>Zaymere </td><td>2014</td><td>M</td><td>5</td></tr>\n",
       "\t<tr><th scope=row>608884</th><td>Zekeriah</td><td>2014</td><td>M</td><td>5</td></tr>\n",
       "\t<tr><th scope=row>608885</th><td>Zenas   </td><td>2014</td><td>M</td><td>5</td></tr>\n",
       "\t<tr><th scope=row>608886</th><td>Ziion   </td><td>2014</td><td>M</td><td>5</td></tr>\n",
       "\t<tr><th scope=row>608887</th><td>Zijun   </td><td>2014</td><td>M</td><td>5</td></tr>\n",
       "\t<tr><th scope=row>608888</th><td>Zirui   </td><td>2014</td><td>M</td><td>5</td></tr>\n",
       "\t<tr><th scope=row>608889</th><td>Zo      </td><td>2014</td><td>M</td><td>5</td></tr>\n",
       "\t<tr><th scope=row>608890</th><td>Zyel    </td><td>2014</td><td>M</td><td>5</td></tr>\n",
       "\t<tr><th scope=row>608891</th><td>Zyran   </td><td>2014</td><td>M</td><td>5</td></tr>\n",
       "\t<tr><th scope=row>608892</th><td>Zyrin   </td><td>2014</td><td>M</td><td>5</td></tr>\n",
       "</tbody>\n",
       "</table>\n"
      ],
      "text/latex": [
       "A data.frame: 10 × 4\n",
       "\\begin{tabular}{r|llll}\n",
       "  & Name & Year & Gender & Count\\\\\n",
       "  & <fct> & <int> & <fct> & <int>\\\\\n",
       "\\hline\n",
       "\t608883 & Zaymere  & 2014 & M & 5\\\\\n",
       "\t608884 & Zekeriah & 2014 & M & 5\\\\\n",
       "\t608885 & Zenas    & 2014 & M & 5\\\\\n",
       "\t608886 & Ziion    & 2014 & M & 5\\\\\n",
       "\t608887 & Zijun    & 2014 & M & 5\\\\\n",
       "\t608888 & Zirui    & 2014 & M & 5\\\\\n",
       "\t608889 & Zo       & 2014 & M & 5\\\\\n",
       "\t608890 & Zyel     & 2014 & M & 5\\\\\n",
       "\t608891 & Zyran    & 2014 & M & 5\\\\\n",
       "\t608892 & Zyrin    & 2014 & M & 5\\\\\n",
       "\\end{tabular}\n"
      ],
      "text/markdown": [
       "\n",
       "A data.frame: 10 × 4\n",
       "\n",
       "| <!--/--> | Name &lt;fct&gt; | Year &lt;int&gt; | Gender &lt;fct&gt; | Count &lt;int&gt; |\n",
       "|---|---|---|---|---|\n",
       "| 608883 | Zaymere  | 2014 | M | 5 |\n",
       "| 608884 | Zekeriah | 2014 | M | 5 |\n",
       "| 608885 | Zenas    | 2014 | M | 5 |\n",
       "| 608886 | Ziion    | 2014 | M | 5 |\n",
       "| 608887 | Zijun    | 2014 | M | 5 |\n",
       "| 608888 | Zirui    | 2014 | M | 5 |\n",
       "| 608889 | Zo       | 2014 | M | 5 |\n",
       "| 608890 | Zyel     | 2014 | M | 5 |\n",
       "| 608891 | Zyran    | 2014 | M | 5 |\n",
       "| 608892 | Zyrin    | 2014 | M | 5 |\n",
       "\n"
      ],
      "text/plain": [
       "       Name     Year Gender Count\n",
       "608883 Zaymere  2014 M      5    \n",
       "608884 Zekeriah 2014 M      5    \n",
       "608885 Zenas    2014 M      5    \n",
       "608886 Ziion    2014 M      5    \n",
       "608887 Zijun    2014 M      5    \n",
       "608888 Zirui    2014 M      5    \n",
       "608889 Zo       2014 M      5    \n",
       "608890 Zyel     2014 M      5    \n",
       "608891 Zyran    2014 M      5    \n",
       "608892 Zyrin    2014 M      5    "
      ]
     },
     "metadata": {},
     "output_type": "display_data"
    }
   ],
   "source": [
    "#' Code for Activity 3 goes here -----------------------\n",
    "tail(df,10)"
   ]
  },
  {
   "cell_type": "markdown",
   "metadata": {},
   "source": [
    "Below is one of the ways that you can subset a data frame. Run the code below to see what it returns."
   ]
  },
  {
   "cell_type": "code",
   "execution_count": 31,
   "metadata": {},
   "outputs": [
    {
     "data": {
      "text/html": [
       "<table>\n",
       "<caption>A data.frame: 6 × 4</caption>\n",
       "<thead>\n",
       "\t<tr><th></th><th scope=col>Name</th><th scope=col>Year</th><th scope=col>Gender</th><th scope=col>Count</th></tr>\n",
       "\t<tr><th></th><th scope=col>&lt;fct&gt;</th><th scope=col>&lt;int&gt;</th><th scope=col>&lt;fct&gt;</th><th scope=col>&lt;int&gt;</th></tr>\n",
       "</thead>\n",
       "<tbody>\n",
       "\t<tr><th scope=row>330</th><td>Charles</td><td>1880</td><td>M</td><td>5348</td></tr>\n",
       "\t<tr><th scope=row>331</th><td>Thomas </td><td>1880</td><td>M</td><td>2534</td></tr>\n",
       "\t<tr><th scope=row>985</th><td>James  </td><td>1881</td><td>M</td><td>5442</td></tr>\n",
       "\t<tr><th scope=row>986</th><td>Frank  </td><td>1881</td><td>M</td><td>2834</td></tr>\n",
       "\t<tr><th scope=row>987</th><td>Thomas </td><td>1881</td><td>M</td><td>2282</td></tr>\n",
       "\t<tr><th scope=row>988</th><td>Robert </td><td>1881</td><td>M</td><td>2140</td></tr>\n",
       "</tbody>\n",
       "</table>\n"
      ],
      "text/latex": [
       "A data.frame: 6 × 4\n",
       "\\begin{tabular}{r|llll}\n",
       "  & Name & Year & Gender & Count\\\\\n",
       "  & <fct> & <int> & <fct> & <int>\\\\\n",
       "\\hline\n",
       "\t330 & Charles & 1880 & M & 5348\\\\\n",
       "\t331 & Thomas  & 1880 & M & 2534\\\\\n",
       "\t985 & James   & 1881 & M & 5442\\\\\n",
       "\t986 & Frank   & 1881 & M & 2834\\\\\n",
       "\t987 & Thomas  & 1881 & M & 2282\\\\\n",
       "\t988 & Robert  & 1881 & M & 2140\\\\\n",
       "\\end{tabular}\n"
      ],
      "text/markdown": [
       "\n",
       "A data.frame: 6 × 4\n",
       "\n",
       "| <!--/--> | Name &lt;fct&gt; | Year &lt;int&gt; | Gender &lt;fct&gt; | Count &lt;int&gt; |\n",
       "|---|---|---|---|---|\n",
       "| 330 | Charles | 1880 | M | 5348 |\n",
       "| 331 | Thomas  | 1880 | M | 2534 |\n",
       "| 985 | James   | 1881 | M | 5442 |\n",
       "| 986 | Frank   | 1881 | M | 2834 |\n",
       "| 987 | Thomas  | 1881 | M | 2282 |\n",
       "| 988 | Robert  | 1881 | M | 2140 |\n",
       "\n"
      ],
      "text/plain": [
       "    Name    Year Gender Count\n",
       "330 Charles 1880 M      5348 \n",
       "331 Thomas  1880 M      2534 \n",
       "985 James   1881 M      5442 \n",
       "986 Frank   1881 M      2834 \n",
       "987 Thomas  1881 M      2282 \n",
       "988 Robert  1881 M      2140 "
      ]
     },
     "metadata": {},
     "output_type": "display_data"
    }
   ],
   "source": [
    "head(df[df$Count > 2000,])"
   ]
  },
  {
   "cell_type": "markdown",
   "metadata": {},
   "source": [
    "The bit of code only returns the first few rows of data but, in reality, there are lot more rows.\n",
    "\n",
    "**Activity 4**: *Find out how many rows where the `Count` is greater than 2000.*"
   ]
  },
  {
   "cell_type": "code",
   "execution_count": 33,
   "metadata": {},
   "outputs": [
    {
     "data": {
      "text/html": [
       "10092"
      ],
      "text/latex": [
       "10092"
      ],
      "text/markdown": [
       "10092"
      ],
      "text/plain": [
       "[1] 10092"
      ]
     },
     "metadata": {},
     "output_type": "display_data"
    }
   ],
   "source": [
    "#' Code for Activity 4 goes here -----------------------\n",
    "nrow(df[df$Count > 2000,])"
   ]
  },
  {
   "cell_type": "markdown",
   "metadata": {},
   "source": [
    "Now let's say that we were interested in only male names, particularly those names that are popular and not so popular.\n",
    "\n",
    "**Activity 5**: subset the data set for rows where the gender is male and the count is above 2000 and below 100."
   ]
  },
  {
   "cell_type": "code",
   "execution_count": 43,
   "metadata": {},
   "outputs": [
    {
     "data": {
      "text/html": [
       "<table>\n",
       "<caption>A data.frame: 221572 × 4</caption>\n",
       "<thead>\n",
       "\t<tr><th></th><th scope=col>Name</th><th scope=col>Year</th><th scope=col>Gender</th><th scope=col>Count</th></tr>\n",
       "\t<tr><th></th><th scope=col>&lt;fct&gt;</th><th scope=col>&lt;int&gt;</th><th scope=col>&lt;fct&gt;</th><th scope=col>&lt;int&gt;</th></tr>\n",
       "</thead>\n",
       "<tbody>\n",
       "\t<tr><th scope=row>330</th><td>Charles  </td><td>1880</td><td>M</td><td>5348</td></tr>\n",
       "\t<tr><th scope=row>331</th><td>Thomas   </td><td>1880</td><td>M</td><td>2534</td></tr>\n",
       "\t<tr><th scope=row>367</th><td>Gus      </td><td>1880</td><td>M</td><td>  99</td></tr>\n",
       "\t<tr><th scope=row>368</th><td>Jake     </td><td>1880</td><td>M</td><td>  96</td></tr>\n",
       "\t<tr><th scope=row>369</th><td>Adolph   </td><td>1880</td><td>M</td><td>  93</td></tr>\n",
       "\t<tr><th scope=row>370</th><td>Felix    </td><td>1880</td><td>M</td><td>  92</td></tr>\n",
       "\t<tr><th scope=row>371</th><td>Wallace  </td><td>1880</td><td>M</td><td>  91</td></tr>\n",
       "\t<tr><th scope=row>372</th><td>Claud    </td><td>1880</td><td>M</td><td>  90</td></tr>\n",
       "\t<tr><th scope=row>373</th><td>Roscoe   </td><td>1880</td><td>M</td><td>  90</td></tr>\n",
       "\t<tr><th scope=row>374</th><td>Hiram    </td><td>1880</td><td>M</td><td>  88</td></tr>\n",
       "\t<tr><th scope=row>375</th><td>Wilbur   </td><td>1880</td><td>M</td><td>  82</td></tr>\n",
       "\t<tr><th scope=row>376</th><td>Clinton  </td><td>1880</td><td>M</td><td>  79</td></tr>\n",
       "\t<tr><th scope=row>377</th><td>Marshall </td><td>1880</td><td>M</td><td>  78</td></tr>\n",
       "\t<tr><th scope=row>378</th><td>Owen     </td><td>1880</td><td>M</td><td>  78</td></tr>\n",
       "\t<tr><th scope=row>379</th><td>Morris   </td><td>1880</td><td>M</td><td>  77</td></tr>\n",
       "\t<tr><th scope=row>380</th><td>Eli      </td><td>1880</td><td>M</td><td>  73</td></tr>\n",
       "\t<tr><th scope=row>381</th><td>Alva     </td><td>1880</td><td>M</td><td>  70</td></tr>\n",
       "\t<tr><th scope=row>382</th><td>Curtis   </td><td>1880</td><td>M</td><td>  68</td></tr>\n",
       "\t<tr><th scope=row>383</th><td>Jeff     </td><td>1880</td><td>M</td><td>  66</td></tr>\n",
       "\t<tr><th scope=row>384</th><td>Stanley  </td><td>1880</td><td>M</td><td>  65</td></tr>\n",
       "\t<tr><th scope=row>385</th><td>Columbus </td><td>1880</td><td>M</td><td>  64</td></tr>\n",
       "\t<tr><th scope=row>386</th><td>Ollie    </td><td>1880</td><td>M</td><td>  63</td></tr>\n",
       "\t<tr><th scope=row>387</th><td>Arch     </td><td>1880</td><td>M</td><td>  61</td></tr>\n",
       "\t<tr><th scope=row>388</th><td>Asa      </td><td>1880</td><td>M</td><td>  60</td></tr>\n",
       "\t<tr><th scope=row>389</th><td>Enoch    </td><td>1880</td><td>M</td><td>  60</td></tr>\n",
       "\t<tr><th scope=row>390</th><td>Nathaniel</td><td>1880</td><td>M</td><td>  60</td></tr>\n",
       "\t<tr><th scope=row>391</th><td>Scott    </td><td>1880</td><td>M</td><td>  60</td></tr>\n",
       "\t<tr><th scope=row>392</th><td>Lemuel   </td><td>1880</td><td>M</td><td>  59</td></tr>\n",
       "\t<tr><th scope=row>393</th><td>Emanuel  </td><td>1880</td><td>M</td><td>  57</td></tr>\n",
       "\t<tr><th scope=row>394</th><td>Cyrus    </td><td>1880</td><td>M</td><td>  54</td></tr>\n",
       "\t<tr><th scope=row>⋮</th><td>⋮</td><td>⋮</td><td>⋮</td><td>⋮</td></tr>\n",
       "\t<tr><th scope=row>608863</th><td>Wacey     </td><td>2014</td><td>M</td><td>5</td></tr>\n",
       "\t<tr><th scope=row>608864</th><td>Wahid     </td><td>2014</td><td>M</td><td>5</td></tr>\n",
       "\t<tr><th scope=row>608865</th><td>Waldo     </td><td>2014</td><td>M</td><td>5</td></tr>\n",
       "\t<tr><th scope=row>608866</th><td>Wildan    </td><td>2014</td><td>M</td><td>5</td></tr>\n",
       "\t<tr><th scope=row>608867</th><td>Willliam  </td><td>2014</td><td>M</td><td>5</td></tr>\n",
       "\t<tr><th scope=row>608868</th><td>Wolfram   </td><td>2014</td><td>M</td><td>5</td></tr>\n",
       "\t<tr><th scope=row>608869</th><td>Wraith    </td><td>2014</td><td>M</td><td>5</td></tr>\n",
       "\t<tr><th scope=row>608870</th><td>Xiang     </td><td>2014</td><td>M</td><td>5</td></tr>\n",
       "\t<tr><th scope=row>608871</th><td>Yahav     </td><td>2014</td><td>M</td><td>5</td></tr>\n",
       "\t<tr><th scope=row>608872</th><td>Yarell    </td><td>2014</td><td>M</td><td>5</td></tr>\n",
       "\t<tr><th scope=row>608873</th><td>Yaviel    </td><td>2014</td><td>M</td><td>5</td></tr>\n",
       "\t<tr><th scope=row>608874</th><td>Yaw       </td><td>2014</td><td>M</td><td>5</td></tr>\n",
       "\t<tr><th scope=row>608875</th><td>Yogi      </td><td>2014</td><td>M</td><td>5</td></tr>\n",
       "\t<tr><th scope=row>608876</th><td>Yosniel   </td><td>2014</td><td>M</td><td>5</td></tr>\n",
       "\t<tr><th scope=row>608877</th><td>Yule      </td><td>2014</td><td>M</td><td>5</td></tr>\n",
       "\t<tr><th scope=row>608878</th><td>Zachariyah</td><td>2014</td><td>M</td><td>5</td></tr>\n",
       "\t<tr><th scope=row>608879</th><td>Zaion     </td><td>2014</td><td>M</td><td>5</td></tr>\n",
       "\t<tr><th scope=row>608880</th><td>Zaiyan    </td><td>2014</td><td>M</td><td>5</td></tr>\n",
       "\t<tr><th scope=row>608881</th><td>Zaiyden   </td><td>2014</td><td>M</td><td>5</td></tr>\n",
       "\t<tr><th scope=row>608882</th><td>Zakiah    </td><td>2014</td><td>M</td><td>5</td></tr>\n",
       "\t<tr><th scope=row>608883</th><td>Zaymere   </td><td>2014</td><td>M</td><td>5</td></tr>\n",
       "\t<tr><th scope=row>608884</th><td>Zekeriah  </td><td>2014</td><td>M</td><td>5</td></tr>\n",
       "\t<tr><th scope=row>608885</th><td>Zenas     </td><td>2014</td><td>M</td><td>5</td></tr>\n",
       "\t<tr><th scope=row>608886</th><td>Ziion     </td><td>2014</td><td>M</td><td>5</td></tr>\n",
       "\t<tr><th scope=row>608887</th><td>Zijun     </td><td>2014</td><td>M</td><td>5</td></tr>\n",
       "\t<tr><th scope=row>608888</th><td>Zirui     </td><td>2014</td><td>M</td><td>5</td></tr>\n",
       "\t<tr><th scope=row>608889</th><td>Zo        </td><td>2014</td><td>M</td><td>5</td></tr>\n",
       "\t<tr><th scope=row>608890</th><td>Zyel      </td><td>2014</td><td>M</td><td>5</td></tr>\n",
       "\t<tr><th scope=row>608891</th><td>Zyran     </td><td>2014</td><td>M</td><td>5</td></tr>\n",
       "\t<tr><th scope=row>608892</th><td>Zyrin     </td><td>2014</td><td>M</td><td>5</td></tr>\n",
       "</tbody>\n",
       "</table>\n"
      ],
      "text/latex": [
       "A data.frame: 221572 × 4\n",
       "\\begin{tabular}{r|llll}\n",
       "  & Name & Year & Gender & Count\\\\\n",
       "  & <fct> & <int> & <fct> & <int>\\\\\n",
       "\\hline\n",
       "\t330 & Charles   & 1880 & M & 5348\\\\\n",
       "\t331 & Thomas    & 1880 & M & 2534\\\\\n",
       "\t367 & Gus       & 1880 & M &   99\\\\\n",
       "\t368 & Jake      & 1880 & M &   96\\\\\n",
       "\t369 & Adolph    & 1880 & M &   93\\\\\n",
       "\t370 & Felix     & 1880 & M &   92\\\\\n",
       "\t371 & Wallace   & 1880 & M &   91\\\\\n",
       "\t372 & Claud     & 1880 & M &   90\\\\\n",
       "\t373 & Roscoe    & 1880 & M &   90\\\\\n",
       "\t374 & Hiram     & 1880 & M &   88\\\\\n",
       "\t375 & Wilbur    & 1880 & M &   82\\\\\n",
       "\t376 & Clinton   & 1880 & M &   79\\\\\n",
       "\t377 & Marshall  & 1880 & M &   78\\\\\n",
       "\t378 & Owen      & 1880 & M &   78\\\\\n",
       "\t379 & Morris    & 1880 & M &   77\\\\\n",
       "\t380 & Eli       & 1880 & M &   73\\\\\n",
       "\t381 & Alva      & 1880 & M &   70\\\\\n",
       "\t382 & Curtis    & 1880 & M &   68\\\\\n",
       "\t383 & Jeff      & 1880 & M &   66\\\\\n",
       "\t384 & Stanley   & 1880 & M &   65\\\\\n",
       "\t385 & Columbus  & 1880 & M &   64\\\\\n",
       "\t386 & Ollie     & 1880 & M &   63\\\\\n",
       "\t387 & Arch      & 1880 & M &   61\\\\\n",
       "\t388 & Asa       & 1880 & M &   60\\\\\n",
       "\t389 & Enoch     & 1880 & M &   60\\\\\n",
       "\t390 & Nathaniel & 1880 & M &   60\\\\\n",
       "\t391 & Scott     & 1880 & M &   60\\\\\n",
       "\t392 & Lemuel    & 1880 & M &   59\\\\\n",
       "\t393 & Emanuel   & 1880 & M &   57\\\\\n",
       "\t394 & Cyrus     & 1880 & M &   54\\\\\n",
       "\t⋮ & ⋮ & ⋮ & ⋮ & ⋮\\\\\n",
       "\t608863 & Wacey      & 2014 & M & 5\\\\\n",
       "\t608864 & Wahid      & 2014 & M & 5\\\\\n",
       "\t608865 & Waldo      & 2014 & M & 5\\\\\n",
       "\t608866 & Wildan     & 2014 & M & 5\\\\\n",
       "\t608867 & Willliam   & 2014 & M & 5\\\\\n",
       "\t608868 & Wolfram    & 2014 & M & 5\\\\\n",
       "\t608869 & Wraith     & 2014 & M & 5\\\\\n",
       "\t608870 & Xiang      & 2014 & M & 5\\\\\n",
       "\t608871 & Yahav      & 2014 & M & 5\\\\\n",
       "\t608872 & Yarell     & 2014 & M & 5\\\\\n",
       "\t608873 & Yaviel     & 2014 & M & 5\\\\\n",
       "\t608874 & Yaw        & 2014 & M & 5\\\\\n",
       "\t608875 & Yogi       & 2014 & M & 5\\\\\n",
       "\t608876 & Yosniel    & 2014 & M & 5\\\\\n",
       "\t608877 & Yule       & 2014 & M & 5\\\\\n",
       "\t608878 & Zachariyah & 2014 & M & 5\\\\\n",
       "\t608879 & Zaion      & 2014 & M & 5\\\\\n",
       "\t608880 & Zaiyan     & 2014 & M & 5\\\\\n",
       "\t608881 & Zaiyden    & 2014 & M & 5\\\\\n",
       "\t608882 & Zakiah     & 2014 & M & 5\\\\\n",
       "\t608883 & Zaymere    & 2014 & M & 5\\\\\n",
       "\t608884 & Zekeriah   & 2014 & M & 5\\\\\n",
       "\t608885 & Zenas      & 2014 & M & 5\\\\\n",
       "\t608886 & Ziion      & 2014 & M & 5\\\\\n",
       "\t608887 & Zijun      & 2014 & M & 5\\\\\n",
       "\t608888 & Zirui      & 2014 & M & 5\\\\\n",
       "\t608889 & Zo         & 2014 & M & 5\\\\\n",
       "\t608890 & Zyel       & 2014 & M & 5\\\\\n",
       "\t608891 & Zyran      & 2014 & M & 5\\\\\n",
       "\t608892 & Zyrin      & 2014 & M & 5\\\\\n",
       "\\end{tabular}\n"
      ],
      "text/markdown": [
       "\n",
       "A data.frame: 221572 × 4\n",
       "\n",
       "| <!--/--> | Name &lt;fct&gt; | Year &lt;int&gt; | Gender &lt;fct&gt; | Count &lt;int&gt; |\n",
       "|---|---|---|---|---|\n",
       "| 330 | Charles   | 1880 | M | 5348 |\n",
       "| 331 | Thomas    | 1880 | M | 2534 |\n",
       "| 367 | Gus       | 1880 | M |   99 |\n",
       "| 368 | Jake      | 1880 | M |   96 |\n",
       "| 369 | Adolph    | 1880 | M |   93 |\n",
       "| 370 | Felix     | 1880 | M |   92 |\n",
       "| 371 | Wallace   | 1880 | M |   91 |\n",
       "| 372 | Claud     | 1880 | M |   90 |\n",
       "| 373 | Roscoe    | 1880 | M |   90 |\n",
       "| 374 | Hiram     | 1880 | M |   88 |\n",
       "| 375 | Wilbur    | 1880 | M |   82 |\n",
       "| 376 | Clinton   | 1880 | M |   79 |\n",
       "| 377 | Marshall  | 1880 | M |   78 |\n",
       "| 378 | Owen      | 1880 | M |   78 |\n",
       "| 379 | Morris    | 1880 | M |   77 |\n",
       "| 380 | Eli       | 1880 | M |   73 |\n",
       "| 381 | Alva      | 1880 | M |   70 |\n",
       "| 382 | Curtis    | 1880 | M |   68 |\n",
       "| 383 | Jeff      | 1880 | M |   66 |\n",
       "| 384 | Stanley   | 1880 | M |   65 |\n",
       "| 385 | Columbus  | 1880 | M |   64 |\n",
       "| 386 | Ollie     | 1880 | M |   63 |\n",
       "| 387 | Arch      | 1880 | M |   61 |\n",
       "| 388 | Asa       | 1880 | M |   60 |\n",
       "| 389 | Enoch     | 1880 | M |   60 |\n",
       "| 390 | Nathaniel | 1880 | M |   60 |\n",
       "| 391 | Scott     | 1880 | M |   60 |\n",
       "| 392 | Lemuel    | 1880 | M |   59 |\n",
       "| 393 | Emanuel   | 1880 | M |   57 |\n",
       "| 394 | Cyrus     | 1880 | M |   54 |\n",
       "| ⋮ | ⋮ | ⋮ | ⋮ | ⋮ |\n",
       "| 608863 | Wacey      | 2014 | M | 5 |\n",
       "| 608864 | Wahid      | 2014 | M | 5 |\n",
       "| 608865 | Waldo      | 2014 | M | 5 |\n",
       "| 608866 | Wildan     | 2014 | M | 5 |\n",
       "| 608867 | Willliam   | 2014 | M | 5 |\n",
       "| 608868 | Wolfram    | 2014 | M | 5 |\n",
       "| 608869 | Wraith     | 2014 | M | 5 |\n",
       "| 608870 | Xiang      | 2014 | M | 5 |\n",
       "| 608871 | Yahav      | 2014 | M | 5 |\n",
       "| 608872 | Yarell     | 2014 | M | 5 |\n",
       "| 608873 | Yaviel     | 2014 | M | 5 |\n",
       "| 608874 | Yaw        | 2014 | M | 5 |\n",
       "| 608875 | Yogi       | 2014 | M | 5 |\n",
       "| 608876 | Yosniel    | 2014 | M | 5 |\n",
       "| 608877 | Yule       | 2014 | M | 5 |\n",
       "| 608878 | Zachariyah | 2014 | M | 5 |\n",
       "| 608879 | Zaion      | 2014 | M | 5 |\n",
       "| 608880 | Zaiyan     | 2014 | M | 5 |\n",
       "| 608881 | Zaiyden    | 2014 | M | 5 |\n",
       "| 608882 | Zakiah     | 2014 | M | 5 |\n",
       "| 608883 | Zaymere    | 2014 | M | 5 |\n",
       "| 608884 | Zekeriah   | 2014 | M | 5 |\n",
       "| 608885 | Zenas      | 2014 | M | 5 |\n",
       "| 608886 | Ziion      | 2014 | M | 5 |\n",
       "| 608887 | Zijun      | 2014 | M | 5 |\n",
       "| 608888 | Zirui      | 2014 | M | 5 |\n",
       "| 608889 | Zo         | 2014 | M | 5 |\n",
       "| 608890 | Zyel       | 2014 | M | 5 |\n",
       "| 608891 | Zyran      | 2014 | M | 5 |\n",
       "| 608892 | Zyrin      | 2014 | M | 5 |\n",
       "\n"
      ],
      "text/plain": [
       "       Name       Year Gender Count\n",
       "330    Charles    1880 M      5348 \n",
       "331    Thomas     1880 M      2534 \n",
       "367    Gus        1880 M        99 \n",
       "368    Jake       1880 M        96 \n",
       "369    Adolph     1880 M        93 \n",
       "370    Felix      1880 M        92 \n",
       "371    Wallace    1880 M        91 \n",
       "372    Claud      1880 M        90 \n",
       "373    Roscoe     1880 M        90 \n",
       "374    Hiram      1880 M        88 \n",
       "375    Wilbur     1880 M        82 \n",
       "376    Clinton    1880 M        79 \n",
       "377    Marshall   1880 M        78 \n",
       "378    Owen       1880 M        78 \n",
       "379    Morris     1880 M        77 \n",
       "380    Eli        1880 M        73 \n",
       "381    Alva       1880 M        70 \n",
       "382    Curtis     1880 M        68 \n",
       "383    Jeff       1880 M        66 \n",
       "384    Stanley    1880 M        65 \n",
       "385    Columbus   1880 M        64 \n",
       "386    Ollie      1880 M        63 \n",
       "387    Arch       1880 M        61 \n",
       "388    Asa        1880 M        60 \n",
       "389    Enoch      1880 M        60 \n",
       "390    Nathaniel  1880 M        60 \n",
       "391    Scott      1880 M        60 \n",
       "392    Lemuel     1880 M        59 \n",
       "393    Emanuel    1880 M        57 \n",
       "394    Cyrus      1880 M        54 \n",
       "⋮      ⋮          ⋮    ⋮      ⋮    \n",
       "608863 Wacey      2014 M      5    \n",
       "608864 Wahid      2014 M      5    \n",
       "608865 Waldo      2014 M      5    \n",
       "608866 Wildan     2014 M      5    \n",
       "608867 Willliam   2014 M      5    \n",
       "608868 Wolfram    2014 M      5    \n",
       "608869 Wraith     2014 M      5    \n",
       "608870 Xiang      2014 M      5    \n",
       "608871 Yahav      2014 M      5    \n",
       "608872 Yarell     2014 M      5    \n",
       "608873 Yaviel     2014 M      5    \n",
       "608874 Yaw        2014 M      5    \n",
       "608875 Yogi       2014 M      5    \n",
       "608876 Yosniel    2014 M      5    \n",
       "608877 Yule       2014 M      5    \n",
       "608878 Zachariyah 2014 M      5    \n",
       "608879 Zaion      2014 M      5    \n",
       "608880 Zaiyan     2014 M      5    \n",
       "608881 Zaiyden    2014 M      5    \n",
       "608882 Zakiah     2014 M      5    \n",
       "608883 Zaymere    2014 M      5    \n",
       "608884 Zekeriah   2014 M      5    \n",
       "608885 Zenas      2014 M      5    \n",
       "608886 Ziion      2014 M      5    \n",
       "608887 Zijun      2014 M      5    \n",
       "608888 Zirui      2014 M      5    \n",
       "608889 Zo         2014 M      5    \n",
       "608890 Zyel       2014 M      5    \n",
       "608891 Zyran      2014 M      5    \n",
       "608892 Zyrin      2014 M      5    "
      ]
     },
     "metadata": {},
     "output_type": "display_data"
    }
   ],
   "source": [
    "#' Code for Activity 5 goes here -----------------------\n",
    "subset(df,Gender=='M' & (Count>2000 | Count<100))\n"
   ]
  },
  {
   "cell_type": "markdown",
   "metadata": {},
   "source": [
    "Imagine we were interested in names during a certain time period and we didn't need any of the data for the years were were not interested in. Let's say we were interested in names from the year 1950 through 1965. Below is one way to subset based on a specific year."
   ]
  },
  {
   "cell_type": "code",
   "execution_count": 44,
   "metadata": {},
   "outputs": [
    {
     "data": {
      "text/html": [
       "<table>\n",
       "<caption>A data.frame: 6 × 4</caption>\n",
       "<thead>\n",
       "\t<tr><th></th><th scope=col>Name</th><th scope=col>Year</th><th scope=col>Gender</th><th scope=col>Count</th></tr>\n",
       "\t<tr><th></th><th scope=col>&lt;fct&gt;</th><th scope=col>&lt;int&gt;</th><th scope=col>&lt;fct&gt;</th><th scope=col>&lt;int&gt;</th></tr>\n",
       "</thead>\n",
       "<tbody>\n",
       "\t<tr><th scope=row>153876</th><td>Mary   </td><td>1950</td><td>F</td><td>65460</td></tr>\n",
       "\t<tr><th scope=row>153877</th><td>Nancy  </td><td>1950</td><td>F</td><td>29621</td></tr>\n",
       "\t<tr><th scope=row>153878</th><td>Deborah</td><td>1950</td><td>F</td><td>29071</td></tr>\n",
       "\t<tr><th scope=row>153879</th><td>Sandra </td><td>1950</td><td>F</td><td>28893</td></tr>\n",
       "\t<tr><th scope=row>153880</th><td>Karen  </td><td>1950</td><td>F</td><td>24139</td></tr>\n",
       "\t<tr><th scope=row>153881</th><td>Pamela </td><td>1950</td><td>F</td><td>16200</td></tr>\n",
       "</tbody>\n",
       "</table>\n"
      ],
      "text/latex": [
       "A data.frame: 6 × 4\n",
       "\\begin{tabular}{r|llll}\n",
       "  & Name & Year & Gender & Count\\\\\n",
       "  & <fct> & <int> & <fct> & <int>\\\\\n",
       "\\hline\n",
       "\t153876 & Mary    & 1950 & F & 65460\\\\\n",
       "\t153877 & Nancy   & 1950 & F & 29621\\\\\n",
       "\t153878 & Deborah & 1950 & F & 29071\\\\\n",
       "\t153879 & Sandra  & 1950 & F & 28893\\\\\n",
       "\t153880 & Karen   & 1950 & F & 24139\\\\\n",
       "\t153881 & Pamela  & 1950 & F & 16200\\\\\n",
       "\\end{tabular}\n"
      ],
      "text/markdown": [
       "\n",
       "A data.frame: 6 × 4\n",
       "\n",
       "| <!--/--> | Name &lt;fct&gt; | Year &lt;int&gt; | Gender &lt;fct&gt; | Count &lt;int&gt; |\n",
       "|---|---|---|---|---|\n",
       "| 153876 | Mary    | 1950 | F | 65460 |\n",
       "| 153877 | Nancy   | 1950 | F | 29621 |\n",
       "| 153878 | Deborah | 1950 | F | 29071 |\n",
       "| 153879 | Sandra  | 1950 | F | 28893 |\n",
       "| 153880 | Karen   | 1950 | F | 24139 |\n",
       "| 153881 | Pamela  | 1950 | F | 16200 |\n",
       "\n"
      ],
      "text/plain": [
       "       Name    Year Gender Count\n",
       "153876 Mary    1950 F      65460\n",
       "153877 Nancy   1950 F      29621\n",
       "153878 Deborah 1950 F      29071\n",
       "153879 Sandra  1950 F      28893\n",
       "153880 Karen   1950 F      24139\n",
       "153881 Pamela  1950 F      16200"
      ]
     },
     "metadata": {},
     "output_type": "display_data"
    },
    {
     "data": {
      "text/html": [
       "<table>\n",
       "<caption>A data.frame: 6 × 4</caption>\n",
       "<thead>\n",
       "\t<tr><th></th><th scope=col>Name</th><th scope=col>Year</th><th scope=col>Gender</th><th scope=col>Count</th></tr>\n",
       "\t<tr><th></th><th scope=col>&lt;fct&gt;</th><th scope=col>&lt;int&gt;</th><th scope=col>&lt;fct&gt;</th><th scope=col>&lt;int&gt;</th></tr>\n",
       "</thead>\n",
       "<tbody>\n",
       "\t<tr><th scope=row>211248</th><td>Patricia</td><td>1965</td><td>F</td><td>23554</td></tr>\n",
       "\t<tr><th scope=row>211249</th><td>Linda   </td><td>1965</td><td>F</td><td>19339</td></tr>\n",
       "\t<tr><th scope=row>211250</th><td>Michelle</td><td>1965</td><td>F</td><td>16215</td></tr>\n",
       "\t<tr><th scope=row>211251</th><td>Lori    </td><td>1965</td><td>F</td><td>15698</td></tr>\n",
       "\t<tr><th scope=row>211252</th><td>Teresa  </td><td>1965</td><td>F</td><td>14578</td></tr>\n",
       "\t<tr><th scope=row>211253</th><td>Barbara </td><td>1965</td><td>F</td><td>14026</td></tr>\n",
       "</tbody>\n",
       "</table>\n"
      ],
      "text/latex": [
       "A data.frame: 6 × 4\n",
       "\\begin{tabular}{r|llll}\n",
       "  & Name & Year & Gender & Count\\\\\n",
       "  & <fct> & <int> & <fct> & <int>\\\\\n",
       "\\hline\n",
       "\t211248 & Patricia & 1965 & F & 23554\\\\\n",
       "\t211249 & Linda    & 1965 & F & 19339\\\\\n",
       "\t211250 & Michelle & 1965 & F & 16215\\\\\n",
       "\t211251 & Lori     & 1965 & F & 15698\\\\\n",
       "\t211252 & Teresa   & 1965 & F & 14578\\\\\n",
       "\t211253 & Barbara  & 1965 & F & 14026\\\\\n",
       "\\end{tabular}\n"
      ],
      "text/markdown": [
       "\n",
       "A data.frame: 6 × 4\n",
       "\n",
       "| <!--/--> | Name &lt;fct&gt; | Year &lt;int&gt; | Gender &lt;fct&gt; | Count &lt;int&gt; |\n",
       "|---|---|---|---|---|\n",
       "| 211248 | Patricia | 1965 | F | 23554 |\n",
       "| 211249 | Linda    | 1965 | F | 19339 |\n",
       "| 211250 | Michelle | 1965 | F | 16215 |\n",
       "| 211251 | Lori     | 1965 | F | 15698 |\n",
       "| 211252 | Teresa   | 1965 | F | 14578 |\n",
       "| 211253 | Barbara  | 1965 | F | 14026 |\n",
       "\n"
      ],
      "text/plain": [
       "       Name     Year Gender Count\n",
       "211248 Patricia 1965 F      23554\n",
       "211249 Linda    1965 F      19339\n",
       "211250 Michelle 1965 F      16215\n",
       "211251 Lori     1965 F      15698\n",
       "211252 Teresa   1965 F      14578\n",
       "211253 Barbara  1965 F      14026"
      ]
     },
     "metadata": {},
     "output_type": "display_data"
    }
   ],
   "source": [
    "df1950 <- head(df[df$Year == 1950,])\n",
    "df1965 <- head(df[df$Year == 1965,])\n",
    "\n",
    "comb <- rbind(df1950,df1965)\n",
    "\n",
    "head(comb);tail(comb)"
   ]
  },
  {
   "cell_type": "markdown",
   "metadata": {},
   "source": [
    "**Questions**\n",
    "1. What does the `rbind` function do?\n",
    "2. Describe what the code above is doing."
   ]
  },
  {
   "cell_type": "raw",
   "metadata": {},
   "source": [
    "Answer the questions above here.\n",
    "1. The rbind or the row bind function is used to bind or combine the multiple group of rows together.  \n",
    "2. Description:\n",
    "\n",
    "df1950 <- head(df[df$Year == 1950,]) # Subset from the dataframe 'df' with year 1950 only, for all columns and save in df1950\n",
    "df1965 <- head(df[df$Year == 1965,]) # Subset from the dataframe 'df' with year 1965 only, for all columns and save in df1965\n",
    "\n",
    "comb <- rbind(df1950,df1965) # Combining the above two groups by row using rbind function and saving into comb variable\n",
    "\n",
    "head(comb);tail(comb) # Displaying head and tail of the 'comb' dataframe. Herein, we have used ';' operator to run two commands in single line.\n",
    "\n"
   ]
  },
  {
   "cell_type": "markdown",
   "metadata": {},
   "source": [
    "Well, the above code would be extremely inefficient when trying to find all of the names between the years 1950 and 1965. How might you subset the data frame based off names between the year 1950 through 1965 without subsetting each year seperately. \n",
    "\n",
    "**Activity 6**: *Subset the data frame based off names between the year 1950 through 1965 without subsetting each year seperately.*"
   ]
  },
  {
   "cell_type": "code",
   "execution_count": 63,
   "metadata": {},
   "outputs": [
    {
     "data": {
      "text/html": [
       "<table>\n",
       "<caption>A data.frame: 6 × 4</caption>\n",
       "<thead>\n",
       "\t<tr><th></th><th scope=col>Name</th><th scope=col>Year</th><th scope=col>Gender</th><th scope=col>Count</th></tr>\n",
       "\t<tr><th></th><th scope=col>&lt;fct&gt;</th><th scope=col>&lt;int&gt;</th><th scope=col>&lt;fct&gt;</th><th scope=col>&lt;int&gt;</th></tr>\n",
       "</thead>\n",
       "<tbody>\n",
       "\t<tr><th scope=row>162578</th><td>Aaron</td><td>1952</td><td>F</td><td>   6</td></tr>\n",
       "\t<tr><th scope=row>166780</th><td>Aaron</td><td>1953</td><td>M</td><td> 897</td></tr>\n",
       "\t<tr><th scope=row>174104</th><td>Aaron</td><td>1955</td><td>M</td><td>1097</td></tr>\n",
       "\t<tr><th scope=row>191797</th><td>Aaron</td><td>1960</td><td>F</td><td>  20</td></tr>\n",
       "\t<tr><th scope=row>197356</th><td>Aaron</td><td>1961</td><td>M</td><td>1882</td></tr>\n",
       "\t<tr><th scope=row>200149</th><td>Aaron</td><td>1962</td><td>F</td><td>  12</td></tr>\n",
       "</tbody>\n",
       "</table>\n"
      ],
      "text/latex": [
       "A data.frame: 6 × 4\n",
       "\\begin{tabular}{r|llll}\n",
       "  & Name & Year & Gender & Count\\\\\n",
       "  & <fct> & <int> & <fct> & <int>\\\\\n",
       "\\hline\n",
       "\t162578 & Aaron & 1952 & F &    6\\\\\n",
       "\t166780 & Aaron & 1953 & M &  897\\\\\n",
       "\t174104 & Aaron & 1955 & M & 1097\\\\\n",
       "\t191797 & Aaron & 1960 & F &   20\\\\\n",
       "\t197356 & Aaron & 1961 & M & 1882\\\\\n",
       "\t200149 & Aaron & 1962 & F &   12\\\\\n",
       "\\end{tabular}\n"
      ],
      "text/markdown": [
       "\n",
       "A data.frame: 6 × 4\n",
       "\n",
       "| <!--/--> | Name &lt;fct&gt; | Year &lt;int&gt; | Gender &lt;fct&gt; | Count &lt;int&gt; |\n",
       "|---|---|---|---|---|\n",
       "| 162578 | Aaron | 1952 | F |    6 |\n",
       "| 166780 | Aaron | 1953 | M |  897 |\n",
       "| 174104 | Aaron | 1955 | M | 1097 |\n",
       "| 191797 | Aaron | 1960 | F |   20 |\n",
       "| 197356 | Aaron | 1961 | M | 1882 |\n",
       "| 200149 | Aaron | 1962 | F |   12 |\n",
       "\n"
      ],
      "text/plain": [
       "       Name  Year Gender Count\n",
       "162578 Aaron 1952 F         6 \n",
       "166780 Aaron 1953 M       897 \n",
       "174104 Aaron 1955 M      1097 \n",
       "191797 Aaron 1960 F        20 \n",
       "197356 Aaron 1961 M      1882 \n",
       "200149 Aaron 1962 F        12 "
      ]
     },
     "metadata": {},
     "output_type": "display_data"
    }
   ],
   "source": [
    "#' Code for Activity 6 goes here -----------------------\n",
    "a = subset(df, Year < 1965 & Year > 1950)\n",
    "a = a[order(a$Name),]\n",
    "head(a)"
   ]
  },
  {
   "cell_type": "markdown",
   "metadata": {},
   "source": [
    "## A Bit of Sorting\n",
    "\n",
    "The code below sorts the data frame based of `Count`, but we can also sort the data alphabetically off of a column of strings.\n"
   ]
  },
  {
   "cell_type": "code",
   "execution_count": 64,
   "metadata": {},
   "outputs": [
    {
     "data": {
      "text/html": [
       "<table>\n",
       "<caption>A data.frame: 6 × 4</caption>\n",
       "<thead>\n",
       "\t<tr><th></th><th scope=col>Name</th><th scope=col>Year</th><th scope=col>Gender</th><th scope=col>Count</th></tr>\n",
       "\t<tr><th></th><th scope=col>&lt;fct&gt;</th><th scope=col>&lt;int&gt;</th><th scope=col>&lt;fct&gt;</th><th scope=col>&lt;int&gt;</th></tr>\n",
       "</thead>\n",
       "<tbody>\n",
       "\t<tr><th scope=row>295</th><td>Adrienne </td><td>1880</td><td>F</td><td>5</td></tr>\n",
       "\t<tr><th scope=row>296</th><td>Albertine</td><td>1880</td><td>F</td><td>5</td></tr>\n",
       "\t<tr><th scope=row>297</th><td>Alys     </td><td>1880</td><td>F</td><td>5</td></tr>\n",
       "\t<tr><th scope=row>298</th><td>Celie    </td><td>1880</td><td>F</td><td>5</td></tr>\n",
       "\t<tr><th scope=row>299</th><td>Cordella </td><td>1880</td><td>F</td><td>5</td></tr>\n",
       "\t<tr><th scope=row>300</th><td>Corrine  </td><td>1880</td><td>F</td><td>5</td></tr>\n",
       "</tbody>\n",
       "</table>\n"
      ],
      "text/latex": [
       "A data.frame: 6 × 4\n",
       "\\begin{tabular}{r|llll}\n",
       "  & Name & Year & Gender & Count\\\\\n",
       "  & <fct> & <int> & <fct> & <int>\\\\\n",
       "\\hline\n",
       "\t295 & Adrienne  & 1880 & F & 5\\\\\n",
       "\t296 & Albertine & 1880 & F & 5\\\\\n",
       "\t297 & Alys      & 1880 & F & 5\\\\\n",
       "\t298 & Celie     & 1880 & F & 5\\\\\n",
       "\t299 & Cordella  & 1880 & F & 5\\\\\n",
       "\t300 & Corrine   & 1880 & F & 5\\\\\n",
       "\\end{tabular}\n"
      ],
      "text/markdown": [
       "\n",
       "A data.frame: 6 × 4\n",
       "\n",
       "| <!--/--> | Name &lt;fct&gt; | Year &lt;int&gt; | Gender &lt;fct&gt; | Count &lt;int&gt; |\n",
       "|---|---|---|---|---|\n",
       "| 295 | Adrienne  | 1880 | F | 5 |\n",
       "| 296 | Albertine | 1880 | F | 5 |\n",
       "| 297 | Alys      | 1880 | F | 5 |\n",
       "| 298 | Celie     | 1880 | F | 5 |\n",
       "| 299 | Cordella  | 1880 | F | 5 |\n",
       "| 300 | Corrine   | 1880 | F | 5 |\n",
       "\n"
      ],
      "text/plain": [
       "    Name      Year Gender Count\n",
       "295 Adrienne  1880 F      5    \n",
       "296 Albertine 1880 F      5    \n",
       "297 Alys      1880 F      5    \n",
       "298 Celie     1880 F      5    \n",
       "299 Cordella  1880 F      5    \n",
       "300 Corrine   1880 F      5    "
      ]
     },
     "metadata": {},
     "output_type": "display_data"
    }
   ],
   "source": [
    "head(df[order(df$Count),])"
   ]
  },
  {
   "cell_type": "markdown",
   "metadata": {},
   "source": [
    "**Activity 7**: Sort the data frame based on `Name` where the names starting with \"Z\" are on the top of the frame."
   ]
  },
  {
   "cell_type": "code",
   "execution_count": 71,
   "metadata": {},
   "outputs": [
    {
     "data": {
      "text/html": [
       "<table>\n",
       "<caption>A data.frame: 6 × 4</caption>\n",
       "<thead>\n",
       "\t<tr><th scope=col>Name</th><th scope=col>Year</th><th scope=col>Gender</th><th scope=col>Count</th></tr>\n",
       "\t<tr><th scope=col>&lt;fct&gt;</th><th scope=col>&lt;int&gt;</th><th scope=col>&lt;fct&gt;</th><th scope=col>&lt;int&gt;</th></tr>\n",
       "</thead>\n",
       "<tbody>\n",
       "\t<tr><td>Zzyzx    </td><td>2010</td><td>M</td><td> 5</td></tr>\n",
       "\t<tr><td>Zyvion   </td><td>2009</td><td>M</td><td> 5</td></tr>\n",
       "\t<tr><td>Zytavious</td><td>2005</td><td>M</td><td> 5</td></tr>\n",
       "\t<tr><td>Zytaveon </td><td>2011</td><td>M</td><td> 8</td></tr>\n",
       "\t<tr><td>Zyshonne </td><td>2001</td><td>M</td><td>12</td></tr>\n",
       "\t<tr><td>Zyshon   </td><td>2005</td><td>M</td><td> 5</td></tr>\n",
       "</tbody>\n",
       "</table>\n"
      ],
      "text/latex": [
       "A data.frame: 6 × 4\n",
       "\\begin{tabular}{r|llll}\n",
       " Name & Year & Gender & Count\\\\\n",
       " <fct> & <int> & <fct> & <int>\\\\\n",
       "\\hline\n",
       "\t Zzyzx     & 2010 & M &  5\\\\\n",
       "\t Zyvion    & 2009 & M &  5\\\\\n",
       "\t Zytavious & 2005 & M &  5\\\\\n",
       "\t Zytaveon  & 2011 & M &  8\\\\\n",
       "\t Zyshonne  & 2001 & M & 12\\\\\n",
       "\t Zyshon    & 2005 & M &  5\\\\\n",
       "\\end{tabular}\n"
      ],
      "text/markdown": [
       "\n",
       "A data.frame: 6 × 4\n",
       "\n",
       "| Name &lt;fct&gt; | Year &lt;int&gt; | Gender &lt;fct&gt; | Count &lt;int&gt; |\n",
       "|---|---|---|---|\n",
       "| Zzyzx     | 2010 | M |  5 |\n",
       "| Zyvion    | 2009 | M |  5 |\n",
       "| Zytavious | 2005 | M |  5 |\n",
       "| Zytaveon  | 2011 | M |  8 |\n",
       "| Zyshonne  | 2001 | M | 12 |\n",
       "| Zyshon    | 2005 | M |  5 |\n",
       "\n"
      ],
      "text/plain": [
       "  Name      Year Gender Count\n",
       "1 Zzyzx     2010 M       5   \n",
       "2 Zyvion    2009 M       5   \n",
       "3 Zytavious 2005 M       5   \n",
       "4 Zytaveon  2011 M       8   \n",
       "5 Zyshonne  2001 M      12   \n",
       "6 Zyshon    2005 M       5   "
      ]
     },
     "metadata": {},
     "output_type": "display_data"
    }
   ],
   "source": [
    "#' Code for Activity 7 goes here -----------------------\n",
    "head(arrange(df, desc(Name)))"
   ]
  },
  {
   "cell_type": "markdown",
   "metadata": {},
   "source": [
    "## Manipulating data with dplyr\n",
    "\n",
    "`dplyr` makes manipulating data a bit simpler. Take a look at the code below."
   ]
  },
  {
   "cell_type": "code",
   "execution_count": 72,
   "metadata": {},
   "outputs": [
    {
     "data": {
      "text/html": [
       "<table>\n",
       "<caption>A data.frame: 6 × 4</caption>\n",
       "<thead>\n",
       "\t<tr><th scope=col>Name</th><th scope=col>Year</th><th scope=col>Gender</th><th scope=col>Count</th></tr>\n",
       "\t<tr><th scope=col>&lt;fct&gt;</th><th scope=col>&lt;int&gt;</th><th scope=col>&lt;fct&gt;</th><th scope=col>&lt;int&gt;</th></tr>\n",
       "</thead>\n",
       "<tbody>\n",
       "\t<tr><td>Linda</td><td>1952</td><td>F</td><td>67096</td></tr>\n",
       "\t<tr><td>Linda</td><td>1953</td><td>F</td><td>61244</td></tr>\n",
       "\t<tr><td>Linda</td><td>1946</td><td>F</td><td>52708</td></tr>\n",
       "\t<tr><td>Linda</td><td>1955</td><td>F</td><td>51275</td></tr>\n",
       "\t<tr><td>Linda</td><td>1957</td><td>F</td><td>44496</td></tr>\n",
       "\t<tr><td>Linda</td><td>1945</td><td>F</td><td>41465</td></tr>\n",
       "</tbody>\n",
       "</table>\n"
      ],
      "text/latex": [
       "A data.frame: 6 × 4\n",
       "\\begin{tabular}{r|llll}\n",
       " Name & Year & Gender & Count\\\\\n",
       " <fct> & <int> & <fct> & <int>\\\\\n",
       "\\hline\n",
       "\t Linda & 1952 & F & 67096\\\\\n",
       "\t Linda & 1953 & F & 61244\\\\\n",
       "\t Linda & 1946 & F & 52708\\\\\n",
       "\t Linda & 1955 & F & 51275\\\\\n",
       "\t Linda & 1957 & F & 44496\\\\\n",
       "\t Linda & 1945 & F & 41465\\\\\n",
       "\\end{tabular}\n"
      ],
      "text/markdown": [
       "\n",
       "A data.frame: 6 × 4\n",
       "\n",
       "| Name &lt;fct&gt; | Year &lt;int&gt; | Gender &lt;fct&gt; | Count &lt;int&gt; |\n",
       "|---|---|---|---|\n",
       "| Linda | 1952 | F | 67096 |\n",
       "| Linda | 1953 | F | 61244 |\n",
       "| Linda | 1946 | F | 52708 |\n",
       "| Linda | 1955 | F | 51275 |\n",
       "| Linda | 1957 | F | 44496 |\n",
       "| Linda | 1945 | F | 41465 |\n",
       "\n"
      ],
      "text/plain": [
       "  Name  Year Gender Count\n",
       "1 Linda 1952 F      67096\n",
       "2 Linda 1953 F      61244\n",
       "3 Linda 1946 F      52708\n",
       "4 Linda 1955 F      51275\n",
       "5 Linda 1957 F      44496\n",
       "6 Linda 1945 F      41465"
      ]
     },
     "metadata": {},
     "output_type": "display_data"
    }
   ],
   "source": [
    "library(dplyr)\n",
    "df %>%\n",
    "    filter(Name == \"Linda\") %>%\n",
    "    arrange(-Count) %>%\n",
    "    head()"
   ]
  },
  {
   "cell_type": "markdown",
   "metadata": {},
   "source": [
    "**Questions**\n",
    "1. Describe what the code above is doing."
   ]
  },
  {
   "cell_type": "raw",
   "metadata": {},
   "source": [
    "Answer the question above here.\n",
    "\n",
    "Description:\n",
    "library(dplyr) #Importing the 'dplyr' library \n",
    "df %>% # Using 'df' dataframe and pipe character for multiple instruction execution\n",
    "    filter(Name == \"Linda\") %>% # Filter the 'df' dataframe by Name exactly 'Linda'\n",
    "    arrange(-Count) %>%  # Counting (in descending order, highest comes first) using arrange function \n",
    "    head() # Displaying first 6 rows using head function\n",
    "\n",
    "\n"
   ]
  },
  {
   "cell_type": "markdown",
   "metadata": {},
   "source": [
    "There is a lot more that you can do with `dplyr` such as renaming column names, lets try some.\n",
    "\n",
    "**Activity 8**: *Copy the code above, but rename each of the columns so that the headers begin with lowercase letters. Name this data frame 'df_lower`.*\n",
    "\n",
    "**Activity 9**: *Now, on the `df_lower` frame, remove the `gender` column.*"
   ]
  },
  {
   "cell_type": "code",
   "execution_count": 84,
   "metadata": {},
   "outputs": [
    {
     "data": {
      "text/html": [
       "<table>\n",
       "<caption>A data.frame: 6 × 4</caption>\n",
       "<thead>\n",
       "\t<tr><th scope=col>name</th><th scope=col>year</th><th scope=col>gender</th><th scope=col>count</th></tr>\n",
       "\t<tr><th scope=col>&lt;fct&gt;</th><th scope=col>&lt;int&gt;</th><th scope=col>&lt;fct&gt;</th><th scope=col>&lt;int&gt;</th></tr>\n",
       "</thead>\n",
       "<tbody>\n",
       "\t<tr><td>Linda</td><td>1952</td><td>F</td><td>67096</td></tr>\n",
       "\t<tr><td>Linda</td><td>1953</td><td>F</td><td>61244</td></tr>\n",
       "\t<tr><td>Linda</td><td>1946</td><td>F</td><td>52708</td></tr>\n",
       "\t<tr><td>Linda</td><td>1955</td><td>F</td><td>51275</td></tr>\n",
       "\t<tr><td>Linda</td><td>1957</td><td>F</td><td>44496</td></tr>\n",
       "\t<tr><td>Linda</td><td>1945</td><td>F</td><td>41465</td></tr>\n",
       "</tbody>\n",
       "</table>\n"
      ],
      "text/latex": [
       "A data.frame: 6 × 4\n",
       "\\begin{tabular}{r|llll}\n",
       " name & year & gender & count\\\\\n",
       " <fct> & <int> & <fct> & <int>\\\\\n",
       "\\hline\n",
       "\t Linda & 1952 & F & 67096\\\\\n",
       "\t Linda & 1953 & F & 61244\\\\\n",
       "\t Linda & 1946 & F & 52708\\\\\n",
       "\t Linda & 1955 & F & 51275\\\\\n",
       "\t Linda & 1957 & F & 44496\\\\\n",
       "\t Linda & 1945 & F & 41465\\\\\n",
       "\\end{tabular}\n"
      ],
      "text/markdown": [
       "\n",
       "A data.frame: 6 × 4\n",
       "\n",
       "| name &lt;fct&gt; | year &lt;int&gt; | gender &lt;fct&gt; | count &lt;int&gt; |\n",
       "|---|---|---|---|\n",
       "| Linda | 1952 | F | 67096 |\n",
       "| Linda | 1953 | F | 61244 |\n",
       "| Linda | 1946 | F | 52708 |\n",
       "| Linda | 1955 | F | 51275 |\n",
       "| Linda | 1957 | F | 44496 |\n",
       "| Linda | 1945 | F | 41465 |\n",
       "\n"
      ],
      "text/plain": [
       "  name  year gender count\n",
       "1 Linda 1952 F      67096\n",
       "2 Linda 1953 F      61244\n",
       "3 Linda 1946 F      52708\n",
       "4 Linda 1955 F      51275\n",
       "5 Linda 1957 F      44496\n",
       "6 Linda 1945 F      41465"
      ]
     },
     "metadata": {},
     "output_type": "display_data"
    }
   ],
   "source": [
    "#' Code for Activity 8 goes here -----------------------\n",
    "library(dplyr)\n",
    "df_lower = rename(df,name = Name,year = Year, gender = Gender, count = Count)\n",
    "df_lower %>%\n",
    "    filter(name == \"Linda\") %>%\n",
    "    arrange(-count) %>%\n",
    "    head()"
   ]
  },
  {
   "cell_type": "code",
   "execution_count": 86,
   "metadata": {},
   "outputs": [
    {
     "data": {
      "text/html": [
       "<table>\n",
       "<caption>A data.frame: 6 × 3</caption>\n",
       "<thead>\n",
       "\t<tr><th scope=col>name</th><th scope=col>year</th><th scope=col>count</th></tr>\n",
       "\t<tr><th scope=col>&lt;fct&gt;</th><th scope=col>&lt;int&gt;</th><th scope=col>&lt;int&gt;</th></tr>\n",
       "</thead>\n",
       "<tbody>\n",
       "\t<tr><td>Elizabeth</td><td>1880</td><td>1939</td></tr>\n",
       "\t<tr><td>Alice    </td><td>1880</td><td>1414</td></tr>\n",
       "\t<tr><td>Clara    </td><td>1880</td><td>1226</td></tr>\n",
       "\t<tr><td>Ella     </td><td>1880</td><td>1156</td></tr>\n",
       "\t<tr><td>Nellie   </td><td>1880</td><td> 995</td></tr>\n",
       "\t<tr><td>Maude    </td><td>1880</td><td> 858</td></tr>\n",
       "</tbody>\n",
       "</table>\n"
      ],
      "text/latex": [
       "A data.frame: 6 × 3\n",
       "\\begin{tabular}{r|lll}\n",
       " name & year & count\\\\\n",
       " <fct> & <int> & <int>\\\\\n",
       "\\hline\n",
       "\t Elizabeth & 1880 & 1939\\\\\n",
       "\t Alice     & 1880 & 1414\\\\\n",
       "\t Clara     & 1880 & 1226\\\\\n",
       "\t Ella      & 1880 & 1156\\\\\n",
       "\t Nellie    & 1880 &  995\\\\\n",
       "\t Maude     & 1880 &  858\\\\\n",
       "\\end{tabular}\n"
      ],
      "text/markdown": [
       "\n",
       "A data.frame: 6 × 3\n",
       "\n",
       "| name &lt;fct&gt; | year &lt;int&gt; | count &lt;int&gt; |\n",
       "|---|---|---|\n",
       "| Elizabeth | 1880 | 1939 |\n",
       "| Alice     | 1880 | 1414 |\n",
       "| Clara     | 1880 | 1226 |\n",
       "| Ella      | 1880 | 1156 |\n",
       "| Nellie    | 1880 |  995 |\n",
       "| Maude     | 1880 |  858 |\n",
       "\n"
      ],
      "text/plain": [
       "  name      year count\n",
       "1 Elizabeth 1880 1939 \n",
       "2 Alice     1880 1414 \n",
       "3 Clara     1880 1226 \n",
       "4 Ella      1880 1156 \n",
       "5 Nellie    1880  995 \n",
       "6 Maude     1880  858 "
      ]
     },
     "metadata": {},
     "output_type": "display_data"
    }
   ],
   "source": [
    "#' Code for Activity 9 goes here -----------------------\n",
    "df_lower = subset(df_lower,select = -gender)\n",
    "head(df_lower)"
   ]
  },
  {
   "cell_type": "markdown",
   "metadata": {},
   "source": [
    "**Activity 10**: *Using `dplyr`, select rows based on both the names \"Linda\" and \"John\".*"
   ]
  },
  {
   "cell_type": "code",
   "execution_count": 95,
   "metadata": {},
   "outputs": [],
   "source": [
    "#' Code for Activity 10 goes here -----------------------\n",
    "df = filter(df,Name == 'Linda' | Name == 'John')"
   ]
  },
  {
   "cell_type": "markdown",
   "metadata": {},
   "source": [
    "**Challenge Activity 1**: *Use `dplyr` to find the max Count per year per name (both Linda and John).*"
   ]
  },
  {
   "cell_type": "code",
   "execution_count": 106,
   "metadata": {},
   "outputs": [
    {
     "data": {
      "text/html": [
       "<table>\n",
       "<caption>A grouped_df: 6 × 4</caption>\n",
       "<thead>\n",
       "\t<tr><th scope=col>Name</th><th scope=col>Year</th><th scope=col>Gender</th><th scope=col>Count</th></tr>\n",
       "\t<tr><th scope=col>&lt;fct&gt;</th><th scope=col>&lt;int&gt;</th><th scope=col>&lt;fct&gt;</th><th scope=col>&lt;int&gt;</th></tr>\n",
       "</thead>\n",
       "<tbody>\n",
       "\t<tr><td>Linda</td><td>1880</td><td>F</td><td>  27</td></tr>\n",
       "\t<tr><td>Linda</td><td>1883</td><td>F</td><td>  49</td></tr>\n",
       "\t<tr><td>John </td><td>1883</td><td>M</td><td>8894</td></tr>\n",
       "\t<tr><td>John </td><td>1884</td><td>F</td><td>  40</td></tr>\n",
       "\t<tr><td>Linda</td><td>1885</td><td>F</td><td>  60</td></tr>\n",
       "\t<tr><td>John </td><td>1885</td><td>M</td><td>8756</td></tr>\n",
       "</tbody>\n",
       "</table>\n"
      ],
      "text/latex": [
       "A grouped_df: 6 × 4\n",
       "\\begin{tabular}{r|llll}\n",
       " Name & Year & Gender & Count\\\\\n",
       " <fct> & <int> & <fct> & <int>\\\\\n",
       "\\hline\n",
       "\t Linda & 1880 & F &   27\\\\\n",
       "\t Linda & 1883 & F &   49\\\\\n",
       "\t John  & 1883 & M & 8894\\\\\n",
       "\t John  & 1884 & F &   40\\\\\n",
       "\t Linda & 1885 & F &   60\\\\\n",
       "\t John  & 1885 & M & 8756\\\\\n",
       "\\end{tabular}\n"
      ],
      "text/markdown": [
       "\n",
       "A grouped_df: 6 × 4\n",
       "\n",
       "| Name &lt;fct&gt; | Year &lt;int&gt; | Gender &lt;fct&gt; | Count &lt;int&gt; |\n",
       "|---|---|---|---|\n",
       "| Linda | 1880 | F |   27 |\n",
       "| Linda | 1883 | F |   49 |\n",
       "| John  | 1883 | M | 8894 |\n",
       "| John  | 1884 | F |   40 |\n",
       "| Linda | 1885 | F |   60 |\n",
       "| John  | 1885 | M | 8756 |\n",
       "\n"
      ],
      "text/plain": [
       "  Name  Year Gender Count\n",
       "1 Linda 1880 F        27 \n",
       "2 Linda 1883 F        49 \n",
       "3 John  1883 M      8894 \n",
       "4 John  1884 F        40 \n",
       "5 Linda 1885 F        60 \n",
       "6 John  1885 M      8756 "
      ]
     },
     "metadata": {},
     "output_type": "display_data"
    }
   ],
   "source": [
    "#'' Code for Challenge Activity 1 goes here -----------------------\n",
    "df %>%\n",
    "    group_by(Year,Name) %>%\n",
    "    filter(Count == max(Count)) %>%\n",
    "    head()"
   ]
  },
  {
   "cell_type": "markdown",
   "metadata": {},
   "source": [
    "# Save your notebook, then `File > Close and Halt`"
   ]
  }
 ],
 "metadata": {
  "kernelspec": {
   "display_name": "R",
   "language": "R",
   "name": "ir"
  },
  "language_info": {
   "codemirror_mode": "r",
   "file_extension": ".r",
   "mimetype": "text/x-r-source",
   "name": "R",
   "pygments_lexer": "r",
   "version": "3.5.1"
  }
 },
 "nbformat": 4,
 "nbformat_minor": 2
}
