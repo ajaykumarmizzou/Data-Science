{
 "cells": [
  {
   "cell_type": "markdown",
   "metadata": {},
   "source": [
    "# Practice Descriptive Statistics and Data Manipulation with `R` \n",
    "\n",
    "In the `R` lab notebook for this module, we focused mainly on what descriptive statistics tell us and how to find them using `R`. In this practice notebook, we will go a step further and integrate the data manipulation techniques that you learned, as it is very important aspect of exploring your data.\n",
    "\n",
    "We again are going to be using the *Game of Thrones* dataset that we used throughout the labs. We will begin by reading in the data."
   ]
  },
  {
   "cell_type": "code",
   "execution_count": 1,
   "metadata": {},
   "outputs": [
    {
     "name": "stderr",
     "output_type": "stream",
     "text": [
      "\n",
      "Attaching package: ‘dplyr’\n",
      "\n",
      "The following objects are masked from ‘package:stats’:\n",
      "\n",
      "    filter, lag\n",
      "\n",
      "The following objects are masked from ‘package:base’:\n",
      "\n",
      "    intersect, setdiff, setequal, union\n",
      "\n"
     ]
    },
    {
     "data": {
      "text/html": [
       "<table>\n",
       "<caption>A data.frame: 6 × 5</caption>\n",
       "<thead>\n",
       "\t<tr><th scope=col>Character</th><th scope=col>Age</th><th scope=col>Dead</th><th scope=col>Gender</th><th scope=col>Affiliation</th></tr>\n",
       "\t<tr><th scope=col>&lt;fct&gt;</th><th scope=col>&lt;int&gt;</th><th scope=col>&lt;fct&gt;</th><th scope=col>&lt;fct&gt;</th><th scope=col>&lt;fct&gt;</th></tr>\n",
       "</thead>\n",
       "<tbody>\n",
       "\t<tr><td>Sandor Clegan</td><td>29</td><td>1</td><td>1</td><td>4 </td></tr>\n",
       "\t<tr><td>Benjen Stark </td><td>35</td><td>1</td><td>1</td><td>10</td></tr>\n",
       "\t<tr><td>Syrio Forel  </td><td>41</td><td>1</td><td>1</td><td>1 </td></tr>\n",
       "\t<tr><td>Tysha        </td><td>29</td><td>0</td><td>0</td><td>4 </td></tr>\n",
       "\t<tr><td>Jeyne Pool   </td><td>12</td><td>1</td><td>0</td><td>1 </td></tr>\n",
       "\t<tr><td>Imry Florent </td><td>35</td><td>1</td><td>1</td><td>2 </td></tr>\n",
       "</tbody>\n",
       "</table>\n"
      ],
      "text/latex": [
       "A data.frame: 6 × 5\n",
       "\\begin{tabular}{r|lllll}\n",
       " Character & Age & Dead & Gender & Affiliation\\\\\n",
       " <fct> & <int> & <fct> & <fct> & <fct>\\\\\n",
       "\\hline\n",
       "\t Sandor Clegan & 29 & 1 & 1 & 4 \\\\\n",
       "\t Benjen Stark  & 35 & 1 & 1 & 10\\\\\n",
       "\t Syrio Forel   & 41 & 1 & 1 & 1 \\\\\n",
       "\t Tysha         & 29 & 0 & 0 & 4 \\\\\n",
       "\t Jeyne Pool    & 12 & 1 & 0 & 1 \\\\\n",
       "\t Imry Florent  & 35 & 1 & 1 & 2 \\\\\n",
       "\\end{tabular}\n"
      ],
      "text/markdown": [
       "\n",
       "A data.frame: 6 × 5\n",
       "\n",
       "| Character &lt;fct&gt; | Age &lt;int&gt; | Dead &lt;fct&gt; | Gender &lt;fct&gt; | Affiliation &lt;fct&gt; |\n",
       "|---|---|---|---|---|\n",
       "| Sandor Clegan | 29 | 1 | 1 | 4  |\n",
       "| Benjen Stark  | 35 | 1 | 1 | 10 |\n",
       "| Syrio Forel   | 41 | 1 | 1 | 1  |\n",
       "| Tysha         | 29 | 0 | 0 | 4  |\n",
       "| Jeyne Pool    | 12 | 1 | 0 | 1  |\n",
       "| Imry Florent  | 35 | 1 | 1 | 2  |\n",
       "\n"
      ],
      "text/plain": [
       "  Character     Age Dead Gender Affiliation\n",
       "1 Sandor Clegan 29  1    1      4          \n",
       "2 Benjen Stark  35  1    1      10         \n",
       "3 Syrio Forel   41  1    1      1          \n",
       "4 Tysha         29  0    0      4          \n",
       "5 Jeyne Pool    12  1    0      1          \n",
       "6 Imry Florent  35  1    1      2          "
      ]
     },
     "metadata": {},
     "output_type": "display_data"
    }
   ],
   "source": [
    "library(dplyr)\n",
    "\n",
    "# read in Game of Thrones data\n",
    "file <- read.csv('/dsa/data/all_datasets/game-of-thrones/GoT_age_at_death.csv')\n",
    "\n",
    "\n",
    "# a bit of column clean up\n",
    "df <-file %>%\n",
    "    rename(Dead = `Dead..1...dead.`, Gender = `Gender..1.male.`) %>%\n",
    "    mutate(Dead = as.factor(Dead), Gender = as.factor(Gender), Affiliation = as.factor(Affiliation))\n",
    "\n",
    "# show first few rows\n",
    "head(df)"
   ]
  },
  {
   "cell_type": "markdown",
   "metadata": {},
   "source": [
    "In the lab, we didn't introduce the `summary` function until later on in the notebook, however, it is often the best place to start."
   ]
  },
  {
   "cell_type": "code",
   "execution_count": 2,
   "metadata": {},
   "outputs": [
    {
     "data": {
      "text/plain": [
       "   Min. 1st Qu.  Median    Mean 3rd Qu.    Max. \n",
       "    0.0    20.0    35.0    35.6    47.0   102.0 "
      ]
     },
     "metadata": {},
     "output_type": "display_data"
    }
   ],
   "source": [
    "summary(df$Age)"
   ]
  },
  {
   "cell_type": "markdown",
   "metadata": {},
   "source": [
    "The line of code above just runs the summary statitistics on the only numeric column in the entire dataset, but it isn't the only interesting variable. \n",
    "\n",
    "**Activity 1**: *Run a `summary` on the entire *Game of Thrones* data.*"
   ]
  },
  {
   "cell_type": "code",
   "execution_count": 3,
   "metadata": {},
   "outputs": [
    {
     "data": {
      "text/plain": [
       "               Character        Age        Dead    Gender   Affiliation \n",
       " High Septon        :  2   Min.   :  0.0   0:176   0: 92   3      : 59  \n",
       " Lannister Guardsmen:  2   1st Qu.: 20.0   1:193   1:277   1      : 47  \n",
       " Rhaenys Targaryen  :  2   Median : 35.0                   2      : 42  \n",
       " Addam Marband      :  1   Mean   : 35.6                   4      : 38  \n",
       " Adrack Humble      :  1   3rd Qu.: 47.0                   10     : 33  \n",
       " Aegon Blackfyre    :  1   Max.   :102.0                   6      : 25  \n",
       " (Other)            :360                                   (Other):125  "
      ]
     },
     "metadata": {},
     "output_type": "display_data"
    }
   ],
   "source": [
    "# Activity 1 code goes here \n",
    "# -------------------------\n",
    "summary(df)"
   ]
  },
  {
   "cell_type": "markdown",
   "metadata": {},
   "source": [
    "We know the mean age of the entire dataset to be around 35.6 years old. But what if we were interested in a different subset of data? *Game of Thrones* kills off a lot of characters. What if our question became, what is the average age of the dead characters?\n",
    "\n",
    "**Activity 2**: *Create a subset from the entire data frame to only include those individuals who are deceased. (Remember, \"1\" codes for dead in this dataset). Call this data frame, `dead_chars`.* "
   ]
  },
  {
   "cell_type": "code",
   "execution_count": 42,
   "metadata": {},
   "outputs": [
    {
     "data": {
      "text/html": [
       "<table>\n",
       "<caption>A data.frame: 6 × 5</caption>\n",
       "<thead>\n",
       "\t<tr><th></th><th scope=col>Character</th><th scope=col>Age</th><th scope=col>Dead</th><th scope=col>Gender</th><th scope=col>Affiliation</th></tr>\n",
       "\t<tr><th></th><th scope=col>&lt;fct&gt;</th><th scope=col>&lt;int&gt;</th><th scope=col>&lt;fct&gt;</th><th scope=col>&lt;fct&gt;</th><th scope=col>&lt;fct&gt;</th></tr>\n",
       "</thead>\n",
       "<tbody>\n",
       "\t<tr><th scope=row>1</th><td>Sandor Clegan      </td><td>29</td><td>1</td><td>1</td><td>4 </td></tr>\n",
       "\t<tr><th scope=row>2</th><td>Benjen Stark       </td><td>35</td><td>1</td><td>1</td><td>10</td></tr>\n",
       "\t<tr><th scope=row>3</th><td>Syrio Forel        </td><td>41</td><td>1</td><td>1</td><td>1 </td></tr>\n",
       "\t<tr><th scope=row>5</th><td>Jeyne Pool         </td><td>12</td><td>1</td><td>0</td><td>1 </td></tr>\n",
       "\t<tr><th scope=row>6</th><td>Imry Florent       </td><td>35</td><td>1</td><td>1</td><td>2 </td></tr>\n",
       "\t<tr><th scope=row>7</th><td>Sorcerer in the Box</td><td>60</td><td>1</td><td>1</td><td>0 </td></tr>\n",
       "</tbody>\n",
       "</table>\n"
      ],
      "text/latex": [
       "A data.frame: 6 × 5\n",
       "\\begin{tabular}{r|lllll}\n",
       "  & Character & Age & Dead & Gender & Affiliation\\\\\n",
       "  & <fct> & <int> & <fct> & <fct> & <fct>\\\\\n",
       "\\hline\n",
       "\t1 & Sandor Clegan       & 29 & 1 & 1 & 4 \\\\\n",
       "\t2 & Benjen Stark        & 35 & 1 & 1 & 10\\\\\n",
       "\t3 & Syrio Forel         & 41 & 1 & 1 & 1 \\\\\n",
       "\t5 & Jeyne Pool          & 12 & 1 & 0 & 1 \\\\\n",
       "\t6 & Imry Florent        & 35 & 1 & 1 & 2 \\\\\n",
       "\t7 & Sorcerer in the Box & 60 & 1 & 1 & 0 \\\\\n",
       "\\end{tabular}\n"
      ],
      "text/markdown": [
       "\n",
       "A data.frame: 6 × 5\n",
       "\n",
       "| <!--/--> | Character &lt;fct&gt; | Age &lt;int&gt; | Dead &lt;fct&gt; | Gender &lt;fct&gt; | Affiliation &lt;fct&gt; |\n",
       "|---|---|---|---|---|---|\n",
       "| 1 | Sandor Clegan       | 29 | 1 | 1 | 4  |\n",
       "| 2 | Benjen Stark        | 35 | 1 | 1 | 10 |\n",
       "| 3 | Syrio Forel         | 41 | 1 | 1 | 1  |\n",
       "| 5 | Jeyne Pool          | 12 | 1 | 0 | 1  |\n",
       "| 6 | Imry Florent        | 35 | 1 | 1 | 2  |\n",
       "| 7 | Sorcerer in the Box | 60 | 1 | 1 | 0  |\n",
       "\n"
      ],
      "text/plain": [
       "  Character           Age Dead Gender Affiliation\n",
       "1 Sandor Clegan       29  1    1      4          \n",
       "2 Benjen Stark        35  1    1      10         \n",
       "3 Syrio Forel         41  1    1      1          \n",
       "5 Jeyne Pool          12  1    0      1          \n",
       "6 Imry Florent        35  1    1      2          \n",
       "7 Sorcerer in the Box 60  1    1      0          "
      ]
     },
     "metadata": {},
     "output_type": "display_data"
    }
   ],
   "source": [
    "# Activity 2 code goes here \n",
    "# -------------------------\n",
    "dead_chars = subset(df,Dead=='1')\n",
    "head(dead_chars)"
   ]
  },
  {
   "cell_type": "markdown",
   "metadata": {},
   "source": [
    "**Activity 3**: Now, find the mean age and standard deviation of those characters who have died."
   ]
  },
  {
   "cell_type": "code",
   "execution_count": 43,
   "metadata": {},
   "outputs": [
    {
     "data": {
      "text/html": [
       "37.9637305699482"
      ],
      "text/latex": [
       "37.9637305699482"
      ],
      "text/markdown": [
       "37.9637305699482"
      ],
      "text/plain": [
       "[1] 37.96373"
      ]
     },
     "metadata": {},
     "output_type": "display_data"
    },
    {
     "data": {
      "text/html": [
       "19.7904051502328"
      ],
      "text/latex": [
       "19.7904051502328"
      ],
      "text/markdown": [
       "19.7904051502328"
      ],
      "text/plain": [
       "[1] 19.79041"
      ]
     },
     "metadata": {},
     "output_type": "display_data"
    }
   ],
   "source": [
    "# Activity 3 code goes here \n",
    "# -------------------------\n",
    "mean(dead_chars$Age)\n",
    "sd(dead_chars$Age)"
   ]
  },
  {
   "cell_type": "markdown",
   "metadata": {},
   "source": [
    "This is nice, but we are only trying to explore our data a bit. It isn't necessary to create a whole new data frame for every little slice of data that we want to investigate.\n",
    "\n",
    "**Activity 4**: *Could you use `dplyr` to find the mean age and standard deviation for those individuals in the data frame who are still alive?*"
   ]
  },
  {
   "cell_type": "code",
   "execution_count": 34,
   "metadata": {},
   "outputs": [
    {
     "data": {
      "text/html": [
       "<table>\n",
       "<caption>A data.frame: 6 × 5</caption>\n",
       "<thead>\n",
       "\t<tr><th scope=col>Character</th><th scope=col>Age</th><th scope=col>Dead</th><th scope=col>Gender</th><th scope=col>Affiliation</th></tr>\n",
       "\t<tr><th scope=col>&lt;fct&gt;</th><th scope=col>&lt;int&gt;</th><th scope=col>&lt;fct&gt;</th><th scope=col>&lt;fct&gt;</th><th scope=col>&lt;fct&gt;</th></tr>\n",
       "</thead>\n",
       "<tbody>\n",
       "\t<tr><td>Tysha                 </td><td>29</td><td>0</td><td>0</td><td>4 </td></tr>\n",
       "\t<tr><td>Jhiqui                </td><td>17</td><td>0</td><td>0</td><td>3 </td></tr>\n",
       "\t<tr><td>Craster's Younger Wife</td><td>23</td><td>0</td><td>0</td><td>12</td></tr>\n",
       "\t<tr><td>Palla                 </td><td>18</td><td>0</td><td>0</td><td>1 </td></tr>\n",
       "\t<tr><td>Hallis Mollen         </td><td>40</td><td>0</td><td>1</td><td>1 </td></tr>\n",
       "\t<tr><td>Jacks                 </td><td>35</td><td>0</td><td>1</td><td>1 </td></tr>\n",
       "</tbody>\n",
       "</table>\n"
      ],
      "text/latex": [
       "A data.frame: 6 × 5\n",
       "\\begin{tabular}{r|lllll}\n",
       " Character & Age & Dead & Gender & Affiliation\\\\\n",
       " <fct> & <int> & <fct> & <fct> & <fct>\\\\\n",
       "\\hline\n",
       "\t Tysha                  & 29 & 0 & 0 & 4 \\\\\n",
       "\t Jhiqui                 & 17 & 0 & 0 & 3 \\\\\n",
       "\t Craster's Younger Wife & 23 & 0 & 0 & 12\\\\\n",
       "\t Palla                  & 18 & 0 & 0 & 1 \\\\\n",
       "\t Hallis Mollen          & 40 & 0 & 1 & 1 \\\\\n",
       "\t Jacks                  & 35 & 0 & 1 & 1 \\\\\n",
       "\\end{tabular}\n"
      ],
      "text/markdown": [
       "\n",
       "A data.frame: 6 × 5\n",
       "\n",
       "| Character &lt;fct&gt; | Age &lt;int&gt; | Dead &lt;fct&gt; | Gender &lt;fct&gt; | Affiliation &lt;fct&gt; |\n",
       "|---|---|---|---|---|\n",
       "| Tysha                  | 29 | 0 | 0 | 4  |\n",
       "| Jhiqui                 | 17 | 0 | 0 | 3  |\n",
       "| Craster's Younger Wife | 23 | 0 | 0 | 12 |\n",
       "| Palla                  | 18 | 0 | 0 | 1  |\n",
       "| Hallis Mollen          | 40 | 0 | 1 | 1  |\n",
       "| Jacks                  | 35 | 0 | 1 | 1  |\n",
       "\n"
      ],
      "text/plain": [
       "  Character              Age Dead Gender Affiliation\n",
       "1 Tysha                  29  0    0      4          \n",
       "2 Jhiqui                 17  0    0      3          \n",
       "3 Craster's Younger Wife 23  0    0      12         \n",
       "4 Palla                  18  0    0      1          \n",
       "5 Hallis Mollen          40  0    1      1          \n",
       "6 Jacks                  35  0    1      1          "
      ]
     },
     "metadata": {},
     "output_type": "display_data"
    },
    {
     "data": {
      "text/html": [
       "33.0056818181818"
      ],
      "text/latex": [
       "33.0056818181818"
      ],
      "text/markdown": [
       "33.0056818181818"
      ],
      "text/plain": [
       "[1] 33.00568"
      ]
     },
     "metadata": {},
     "output_type": "display_data"
    },
    {
     "data": {
      "text/html": [
       "17.8298296311357"
      ],
      "text/latex": [
       "17.8298296311357"
      ],
      "text/markdown": [
       "17.8298296311357"
      ],
      "text/plain": [
       "[1] 17.82983"
      ]
     },
     "metadata": {},
     "output_type": "display_data"
    }
   ],
   "source": [
    "# Activity 4 code goes here \n",
    "# -------------------------\n",
    "library(dplyr)\n",
    "df_alive = filter(df,Dead == '0')\n",
    "head(df_alive)\n",
    "mean(df_alive$Age)\n",
    "sd(df_alive$Age)"
   ]
  },
  {
   "cell_type": "markdown",
   "metadata": {},
   "source": [
    "One thing that wasn't mentioned in the lab notebook was that comparing the mean and the median to one another gives you an idea about the symmetry of the dataset. **this was mentioned in module 1 practice but lets review**  When the mean is greater than the median, it means that the data is skewed to the right, and when the median is greater than the mean, the data is skewed to the left. When the mean and median are the same, it means that the data are symmetrical. In other words, in a right skewed distribution, most of the data points are below the mean, but there are some high value points pulling the mean higher; the opposite is true for a left skew.\n",
    "\n",
    "<img src=\"../images/distr_sym.gif\">\n",
    "\n",
    "Let's return to the subset of those who are dead. \n",
    "\n",
    "**Activity 5**: *Does the age distribution for these deceased individuals have a right skew, left skew, or is it symmetrical?*\n",
    "\n"
   ]
  },
  {
   "cell_type": "code",
   "execution_count": 39,
   "metadata": {},
   "outputs": [
    {
     "data": {
      "text/plain": [
       "   Min. 1st Qu.  Median    Mean 3rd Qu.    Max. \n",
       "   0.00   23.00   36.00   37.96   52.00  102.00 "
      ]
     },
     "metadata": {},
     "output_type": "display_data"
    },
    {
     "data": {
      "image/png": "[encoded data removed]",
      "text/plain": [
       "Plot with title “Histogram of dead_chars$Age”"
      ]
     },
     "metadata": {},
     "output_type": "display_data"
    }
   ],
   "source": [
    "# Activity 5 code to determine answer goes here \n",
    "# ---------------------------------------------\n",
    "hist(dead_chars$Age,breaks = 50)\n",
    "summary(dead_chars$Age)"
   ]
  },
  {
   "cell_type": "raw",
   "metadata": {},
   "source": [
    "Answer the question above here.\n",
    "5.  As Median is less than Mean here. Thus, It is Right-skewed. "
   ]
  },
  {
   "cell_type": "markdown",
   "metadata": {},
   "source": [
    "### Univariate Visualizations\n",
    "\n",
    "This is an appropriate time to visualize the distribution. Remember, we introduced two different types of plots that are useful for univariate visualization, the histogram and the boxplot. But what if we wanted to plot a visualziation depicting the number of males and females in the data set?\n",
    "\n",
    "Below is an example of how to do that. Notice that we also call the `table()` fuction. What this does is count the number of rows per each unique value in a column and converts it to a table format."
   ]
  },
  {
   "cell_type": "code",
   "execution_count": 40,
   "metadata": {},
   "outputs": [
    {
     "data": {
      "text/plain": [
       "\n",
       "  0   1 \n",
       " 92 277 "
      ]
     },
     "metadata": {},
     "output_type": "display_data"
    },
    {
     "data": {
      "image/png": "[encoded data removed]",
      "text/plain": [
       "plot without title"
      ]
     },
     "metadata": {},
     "output_type": "display_data"
    }
   ],
   "source": [
    "table(df$Gender) # show what the table function does\n",
    "barplot(table(df$Gender)) # create a bar plot"
   ]
  },
  {
   "cell_type": "markdown",
   "metadata": {},
   "source": [
    "We haven't discussed the `Affiliation` variable much, but essentially the characters can be grouped in the books/show based off of their loyalty to a family. \n",
    "\n",
    "**Activity 6**: *In the `dead` subset, create a bar plot to visualize all of the losses per affiliation.*"
   ]
  },
  {
   "cell_type": "code",
   "execution_count": 44,
   "metadata": {},
   "outputs": [
    {
     "data": {
      "image/png": "[encoded data removed]",
      "text/plain": [
       "plot without title"
      ]
     },
     "metadata": {},
     "output_type": "display_data"
    }
   ],
   "source": [
    "# Activity 6 code goes here \n",
    "# -------------------------\n",
    "barplot(table(dead_chars$Affiliation))"
   ]
  },
  {
   "cell_type": "markdown",
   "metadata": {},
   "source": [
    "**Challenge Activity 1**: *Using the mean as our average age, find the mean age of the deceased per affiliation. (You may want to use `dplyr`, but attempt it whatever way you see fit.)*"
   ]
  },
  {
   "cell_type": "code",
   "execution_count": 59,
   "metadata": {},
   "outputs": [
    {
     "data": {
      "text/plain": [
       "              Character        Age         Dead    Gender   Affiliation\n",
       " High Septon       :  2   Min.   :  0.00   0:  0   0: 38   3      :44  \n",
       " Rhaenys Targaryen :  2   1st Qu.: 23.00   1:193   1:155   1      :27  \n",
       " Adrack Humble     :  1   Median : 36.00                   10     :22  \n",
       " Aegon Blackfyre   :  1   Mean   : 37.96                   2      :17  \n",
       " Aegon I Targaryen :  1   3rd Qu.: 52.00                   4      :16  \n",
       " Aegon II Targaryen:  1   Max.   :102.00                   13     :15  "
      ]
     },
     "metadata": {},
     "output_type": "display_data"
    }
   ],
   "source": [
    "# Challenge Activity 1 code goes here \n",
    "# -----------------------------------\n",
    "library(dplyr)\n",
    "dead_chars %>%\n",
    "    group_by(Affiliation) %>%\n",
    "    arrange(Affiliation) %>%\n",
    "    summary() %>%\n",
    "    head()"
   ]
  },
  {
   "cell_type": "markdown",
   "metadata": {},
   "source": [
    "## Bivariate Analysis\n",
    "\n",
    "In the lab activity, we read in the *Stature Hand and Foot* dataset and found the covariance and correlation between the hand length and foot length. We are going to be using the same dataset this time around, but for different factor levels..."
   ]
  },
  {
   "cell_type": "code",
   "execution_count": 73,
   "metadata": {},
   "outputs": [
    {
     "data": {
      "text/html": [
       "<table>\n",
       "<caption>A data.frame: 6 × 4</caption>\n",
       "<thead>\n",
       "\t<tr><th scope=col>gender</th><th scope=col>height</th><th scope=col>hand.length</th><th scope=col>foot.length</th></tr>\n",
       "\t<tr><th scope=col>&lt;fct&gt;</th><th scope=col>&lt;dbl&gt;</th><th scope=col>&lt;dbl&gt;</th><th scope=col>&lt;dbl&gt;</th></tr>\n",
       "</thead>\n",
       "<tbody>\n",
       "\t<tr><td>1</td><td>1760.2</td><td>208.6</td><td>269.6</td></tr>\n",
       "\t<tr><td>1</td><td>1730.1</td><td>207.6</td><td>251.3</td></tr>\n",
       "\t<tr><td>1</td><td>1659.6</td><td>173.2</td><td>193.6</td></tr>\n",
       "\t<tr><td>1</td><td>1751.3</td><td>258.0</td><td>223.8</td></tr>\n",
       "\t<tr><td>1</td><td>1780.6</td><td>212.3</td><td>282.1</td></tr>\n",
       "\t<tr><td>1</td><td>1818.3</td><td>213.4</td><td>268.0</td></tr>\n",
       "</tbody>\n",
       "</table>\n"
      ],
      "text/latex": [
       "A data.frame: 6 × 4\n",
       "\\begin{tabular}{r|llll}\n",
       " gender & height & hand.length & foot.length\\\\\n",
       " <fct> & <dbl> & <dbl> & <dbl>\\\\\n",
       "\\hline\n",
       "\t 1 & 1760.2 & 208.6 & 269.6\\\\\n",
       "\t 1 & 1730.1 & 207.6 & 251.3\\\\\n",
       "\t 1 & 1659.6 & 173.2 & 193.6\\\\\n",
       "\t 1 & 1751.3 & 258.0 & 223.8\\\\\n",
       "\t 1 & 1780.6 & 212.3 & 282.1\\\\\n",
       "\t 1 & 1818.3 & 213.4 & 268.0\\\\\n",
       "\\end{tabular}\n"
      ],
      "text/markdown": [
       "\n",
       "A data.frame: 6 × 4\n",
       "\n",
       "| gender &lt;fct&gt; | height &lt;dbl&gt; | hand.length &lt;dbl&gt; | foot.length &lt;dbl&gt; |\n",
       "|---|---|---|---|\n",
       "| 1 | 1760.2 | 208.6 | 269.6 |\n",
       "| 1 | 1730.1 | 207.6 | 251.3 |\n",
       "| 1 | 1659.6 | 173.2 | 193.6 |\n",
       "| 1 | 1751.3 | 258.0 | 223.8 |\n",
       "| 1 | 1780.6 | 212.3 | 282.1 |\n",
       "| 1 | 1818.3 | 213.4 | 268.0 |\n",
       "\n"
      ],
      "text/plain": [
       "  gender height hand.length foot.length\n",
       "1 1      1760.2 208.6       269.6      \n",
       "2 1      1730.1 207.6       251.3      \n",
       "3 1      1659.6 173.2       193.6      \n",
       "4 1      1751.3 258.0       223.8      \n",
       "5 1      1780.6 212.3       282.1      \n",
       "6 1      1818.3 213.4       268.0      "
      ]
     },
     "metadata": {},
     "output_type": "display_data"
    }
   ],
   "source": [
    "file2 <- read.csv(\"/dsa/data/all_datasets/stature-hand-foot/stature-hand-foot.csv\")\n",
    "\n",
    "df2 <- file2 %>%\n",
    "    mutate(gender = as.factor(gender))\n",
    "\n",
    "head(df2)"
   ]
  },
  {
   "cell_type": "markdown",
   "metadata": {},
   "source": [
    "What we didn't mention in the lab is that you can actually create a covariance and correlation matrices so that you can quickly see how one variable influences the other. Below is an example of a covariance matrix. "
   ]
  },
  {
   "cell_type": "code",
   "execution_count": 66,
   "metadata": {},
   "outputs": [
    {
     "data": {
      "text/html": [
       "<table>\n",
       "<caption>A matrix: 3 × 3 of type dbl</caption>\n",
       "<thead>\n",
       "\t<tr><th></th><th scope=col>height</th><th scope=col>hand.length</th><th scope=col>foot.length</th></tr>\n",
       "</thead>\n",
       "<tbody>\n",
       "\t<tr><th scope=row>height</th><td>8819.668</td><td>1094.2472</td><td>1535.1564</td></tr>\n",
       "\t<tr><th scope=row>hand.length</th><td>1094.247</td><td> 178.0149</td><td> 195.0701</td></tr>\n",
       "\t<tr><th scope=row>foot.length</th><td>1535.156</td><td> 195.0701</td><td> 344.0532</td></tr>\n",
       "</tbody>\n",
       "</table>\n"
      ],
      "text/latex": [
       "A matrix: 3 × 3 of type dbl\n",
       "\\begin{tabular}{r|lll}\n",
       "  & height & hand.length & foot.length\\\\\n",
       "\\hline\n",
       "\theight & 8819.668 & 1094.2472 & 1535.1564\\\\\n",
       "\thand.length & 1094.247 &  178.0149 &  195.0701\\\\\n",
       "\tfoot.length & 1535.156 &  195.0701 &  344.0532\\\\\n",
       "\\end{tabular}\n"
      ],
      "text/markdown": [
       "\n",
       "A matrix: 3 × 3 of type dbl\n",
       "\n",
       "| <!--/--> | height | hand.length | foot.length |\n",
       "|---|---|---|---|\n",
       "| height | 8819.668 | 1094.2472 | 1535.1564 |\n",
       "| hand.length | 1094.247 |  178.0149 |  195.0701 |\n",
       "| foot.length | 1535.156 |  195.0701 |  344.0532 |\n",
       "\n"
      ],
      "text/plain": [
       "            height   hand.length foot.length\n",
       "height      8819.668 1094.2472   1535.1564  \n",
       "hand.length 1094.247  178.0149    195.0701  \n",
       "foot.length 1535.156  195.0701    344.0532  "
      ]
     },
     "metadata": {},
     "output_type": "display_data"
    }
   ],
   "source": [
    "cov(df2[2:4])"
   ]
  },
  {
   "cell_type": "markdown",
   "metadata": {},
   "source": [
    "Notice how we have to specify the columns. What would happen if we just put the data frame as the argument? You will notice that each variable is a row and a column. `height`'s covariance with `height` is the 1st row, 1st column. `height`'s covariance with `hand.length` is the 1st row, 2nd column, and `height`'s covariance with `foot.length` is the 1st row, 3rd column. This relationship can be applied to the other variables by going down the rows.\n",
    "\n",
    "**Activity 7**: *Attempt to create a correlation matrix of df2. Why are the values 1 across the diagonal?*"
   ]
  },
  {
   "cell_type": "code",
   "execution_count": 69,
   "metadata": {},
   "outputs": [
    {
     "data": {
      "text/html": [
       "<table>\n",
       "<caption>A matrix: 3 × 3 of type dbl</caption>\n",
       "<thead>\n",
       "\t<tr><th></th><th scope=col>height</th><th scope=col>hand.length</th><th scope=col>foot.length</th></tr>\n",
       "</thead>\n",
       "<tbody>\n",
       "\t<tr><th scope=row>height</th><td>1.0000000</td><td>0.8732954</td><td>0.8812795</td></tr>\n",
       "\t<tr><th scope=row>hand.length</th><td>0.8732954</td><td>1.0000000</td><td>0.7882243</td></tr>\n",
       "\t<tr><th scope=row>foot.length</th><td>0.8812795</td><td>0.7882243</td><td>1.0000000</td></tr>\n",
       "</tbody>\n",
       "</table>\n"
      ],
      "text/latex": [
       "A matrix: 3 × 3 of type dbl\n",
       "\\begin{tabular}{r|lll}\n",
       "  & height & hand.length & foot.length\\\\\n",
       "\\hline\n",
       "\theight & 1.0000000 & 0.8732954 & 0.8812795\\\\\n",
       "\thand.length & 0.8732954 & 1.0000000 & 0.7882243\\\\\n",
       "\tfoot.length & 0.8812795 & 0.7882243 & 1.0000000\\\\\n",
       "\\end{tabular}\n"
      ],
      "text/markdown": [
       "\n",
       "A matrix: 3 × 3 of type dbl\n",
       "\n",
       "| <!--/--> | height | hand.length | foot.length |\n",
       "|---|---|---|---|\n",
       "| height | 1.0000000 | 0.8732954 | 0.8812795 |\n",
       "| hand.length | 0.8732954 | 1.0000000 | 0.7882243 |\n",
       "| foot.length | 0.8812795 | 0.7882243 | 1.0000000 |\n",
       "\n"
      ],
      "text/plain": [
       "            height    hand.length foot.length\n",
       "height      1.0000000 0.8732954   0.8812795  \n",
       "hand.length 0.8732954 1.0000000   0.7882243  \n",
       "foot.length 0.8812795 0.7882243   1.0000000  "
      ]
     },
     "metadata": {},
     "output_type": "display_data"
    }
   ],
   "source": [
    "# Activity 7 code goes here \n",
    "# -------------------------\n",
    "cor(df2[2:4])\n",
    "\n",
    "# Why are the values 1 across the diagonal?\n",
    "# The correlatin bewteen same attributes are always highest."
   ]
  },
  {
   "cell_type": "markdown",
   "metadata": {},
   "source": [
    "**Activity 8**: *Now find the covariance and correlation between male hand length and foot length.*"
   ]
  },
  {
   "cell_type": "code",
   "execution_count": 92,
   "metadata": {},
   "outputs": [
    {
     "data": {
      "text/html": [
       "<table>\n",
       "<caption>A data.frame: 6 × 4</caption>\n",
       "<thead>\n",
       "\t<tr><th></th><th scope=col>gender</th><th scope=col>height</th><th scope=col>hand.length</th><th scope=col>foot.length</th></tr>\n",
       "\t<tr><th></th><th scope=col>&lt;fct&gt;</th><th scope=col>&lt;dbl&gt;</th><th scope=col>&lt;dbl&gt;</th><th scope=col>&lt;dbl&gt;</th></tr>\n",
       "</thead>\n",
       "<tbody>\n",
       "\t<tr><th scope=row>75</th><td>1</td><td>1776.5</td><td>210.9</td><td>266.0</td></tr>\n",
       "\t<tr><th scope=row>76</th><td>1</td><td>1683.6</td><td>204.5</td><td>263.1</td></tr>\n",
       "\t<tr><th scope=row>77</th><td>1</td><td>1857.3</td><td>219.5</td><td>283.1</td></tr>\n",
       "\t<tr><th scope=row>78</th><td>1</td><td>1703.2</td><td>205.0</td><td>261.7</td></tr>\n",
       "\t<tr><th scope=row>79</th><td>1</td><td>1763.8</td><td>210.5</td><td>265.3</td></tr>\n",
       "\t<tr><th scope=row>80</th><td>1</td><td>1708.1</td><td>204.6</td><td>260.0</td></tr>\n",
       "</tbody>\n",
       "</table>\n"
      ],
      "text/latex": [
       "A data.frame: 6 × 4\n",
       "\\begin{tabular}{r|llll}\n",
       "  & gender & height & hand.length & foot.length\\\\\n",
       "  & <fct> & <dbl> & <dbl> & <dbl>\\\\\n",
       "\\hline\n",
       "\t75 & 1 & 1776.5 & 210.9 & 266.0\\\\\n",
       "\t76 & 1 & 1683.6 & 204.5 & 263.1\\\\\n",
       "\t77 & 1 & 1857.3 & 219.5 & 283.1\\\\\n",
       "\t78 & 1 & 1703.2 & 205.0 & 261.7\\\\\n",
       "\t79 & 1 & 1763.8 & 210.5 & 265.3\\\\\n",
       "\t80 & 1 & 1708.1 & 204.6 & 260.0\\\\\n",
       "\\end{tabular}\n"
      ],
      "text/markdown": [
       "\n",
       "A data.frame: 6 × 4\n",
       "\n",
       "| <!--/--> | gender &lt;fct&gt; | height &lt;dbl&gt; | hand.length &lt;dbl&gt; | foot.length &lt;dbl&gt; |\n",
       "|---|---|---|---|---|\n",
       "| 75 | 1 | 1776.5 | 210.9 | 266.0 |\n",
       "| 76 | 1 | 1683.6 | 204.5 | 263.1 |\n",
       "| 77 | 1 | 1857.3 | 219.5 | 283.1 |\n",
       "| 78 | 1 | 1703.2 | 205.0 | 261.7 |\n",
       "| 79 | 1 | 1763.8 | 210.5 | 265.3 |\n",
       "| 80 | 1 | 1708.1 | 204.6 | 260.0 |\n",
       "\n"
      ],
      "text/plain": [
       "   gender height hand.length foot.length\n",
       "75 1      1776.5 210.9       266.0      \n",
       "76 1      1683.6 204.5       263.1      \n",
       "77 1      1857.3 219.5       283.1      \n",
       "78 1      1703.2 205.0       261.7      \n",
       "79 1      1763.8 210.5       265.3      \n",
       "80 1      1708.1 204.6       260.0      "
      ]
     },
     "metadata": {},
     "output_type": "display_data"
    },
    {
     "data": {
      "text/html": [
       "<table>\n",
       "<caption>A matrix: 3 × 3 of type dbl</caption>\n",
       "<thead>\n",
       "\t<tr><th></th><th scope=col>height</th><th scope=col>hand.length</th><th scope=col>foot.length</th></tr>\n",
       "</thead>\n",
       "<tbody>\n",
       "\t<tr><th scope=row>height</th><td>3754.4658</td><td>407.54545</td><td>545.01288</td></tr>\n",
       "\t<tr><th scope=row>hand.length</th><td> 407.5454</td><td> 84.78144</td><td> 54.10615</td></tr>\n",
       "\t<tr><th scope=row>foot.length</th><td> 545.0129</td><td> 54.10615</td><td>154.33692</td></tr>\n",
       "</tbody>\n",
       "</table>\n"
      ],
      "text/latex": [
       "A matrix: 3 × 3 of type dbl\n",
       "\\begin{tabular}{r|lll}\n",
       "  & height & hand.length & foot.length\\\\\n",
       "\\hline\n",
       "\theight & 3754.4658 & 407.54545 & 545.01288\\\\\n",
       "\thand.length &  407.5454 &  84.78144 &  54.10615\\\\\n",
       "\tfoot.length &  545.0129 &  54.10615 & 154.33692\\\\\n",
       "\\end{tabular}\n"
      ],
      "text/markdown": [
       "\n",
       "A matrix: 3 × 3 of type dbl\n",
       "\n",
       "| <!--/--> | height | hand.length | foot.length |\n",
       "|---|---|---|---|\n",
       "| height | 3754.4658 | 407.54545 | 545.01288 |\n",
       "| hand.length |  407.5454 |  84.78144 |  54.10615 |\n",
       "| foot.length |  545.0129 |  54.10615 | 154.33692 |\n",
       "\n"
      ],
      "text/plain": [
       "            height    hand.length foot.length\n",
       "height      3754.4658 407.54545   545.01288  \n",
       "hand.length  407.5454  84.78144    54.10615  \n",
       "foot.length  545.0129  54.10615   154.33692  "
      ]
     },
     "metadata": {},
     "output_type": "display_data"
    },
    {
     "data": {
      "text/html": [
       "<table>\n",
       "<caption>A matrix: 3 × 3 of type dbl</caption>\n",
       "<thead>\n",
       "\t<tr><th></th><th scope=col>height</th><th scope=col>hand.length</th><th scope=col>foot.length</th></tr>\n",
       "</thead>\n",
       "<tbody>\n",
       "\t<tr><th scope=row>height</th><td>1.0000000</td><td>0.7223565</td><td>0.7159749</td></tr>\n",
       "\t<tr><th scope=row>hand.length</th><td>0.7223565</td><td>1.0000000</td><td>0.4730002</td></tr>\n",
       "\t<tr><th scope=row>foot.length</th><td>0.7159749</td><td>0.4730002</td><td>1.0000000</td></tr>\n",
       "</tbody>\n",
       "</table>\n"
      ],
      "text/latex": [
       "A matrix: 3 × 3 of type dbl\n",
       "\\begin{tabular}{r|lll}\n",
       "  & height & hand.length & foot.length\\\\\n",
       "\\hline\n",
       "\theight & 1.0000000 & 0.7223565 & 0.7159749\\\\\n",
       "\thand.length & 0.7223565 & 1.0000000 & 0.4730002\\\\\n",
       "\tfoot.length & 0.7159749 & 0.4730002 & 1.0000000\\\\\n",
       "\\end{tabular}\n"
      ],
      "text/markdown": [
       "\n",
       "A matrix: 3 × 3 of type dbl\n",
       "\n",
       "| <!--/--> | height | hand.length | foot.length |\n",
       "|---|---|---|---|\n",
       "| height | 1.0000000 | 0.7223565 | 0.7159749 |\n",
       "| hand.length | 0.7223565 | 1.0000000 | 0.4730002 |\n",
       "| foot.length | 0.7159749 | 0.4730002 | 1.0000000 |\n",
       "\n"
      ],
      "text/plain": [
       "            height    hand.length foot.length\n",
       "height      1.0000000 0.7223565   0.7159749  \n",
       "hand.length 0.7223565 1.0000000   0.4730002  \n",
       "foot.length 0.7159749 0.4730002   1.0000000  "
      ]
     },
     "metadata": {},
     "output_type": "display_data"
    },
    {
     "data": {
      "text/html": [
       "<ol class=list-inline>\n",
       "\t<li>80</li>\n",
       "\t<li>4</li>\n",
       "</ol>\n"
      ],
      "text/latex": [
       "\\begin{enumerate*}\n",
       "\\item 80\n",
       "\\item 4\n",
       "\\end{enumerate*}\n"
      ],
      "text/markdown": [
       "1. 80\n",
       "2. 4\n",
       "\n",
       "\n"
      ],
      "text/plain": [
       "[1] 80  4"
      ]
     },
     "metadata": {},
     "output_type": "display_data"
    }
   ],
   "source": [
    "# Activity 8 code goes here \n",
    "# Lets take 1 as male and 2 as female.\n",
    "df_male = subset(df2,gender =='1')\n",
    "tail(df_male)\n",
    "cov(df_male[2:4])\n",
    "cor(df_male[2:4])\n"
   ]
  },
  {
   "cell_type": "markdown",
   "metadata": {},
   "source": [
    "**Activity 9**: *Now find the covariance and correlation between female hand length and foot length.*"
   ]
  },
  {
   "cell_type": "code",
   "execution_count": 91,
   "metadata": {},
   "outputs": [
    {
     "data": {
      "text/html": [
       "<table>\n",
       "<caption>A data.frame: 6 × 4</caption>\n",
       "<thead>\n",
       "\t<tr><th></th><th scope=col>gender</th><th scope=col>height</th><th scope=col>hand.length</th><th scope=col>foot.length</th></tr>\n",
       "\t<tr><th></th><th scope=col>&lt;fct&gt;</th><th scope=col>&lt;dbl&gt;</th><th scope=col>&lt;dbl&gt;</th><th scope=col>&lt;dbl&gt;</th></tr>\n",
       "</thead>\n",
       "<tbody>\n",
       "\t<tr><th scope=row>150</th><td>2</td><td>1606.0</td><td>189.1</td><td>232.6</td></tr>\n",
       "\t<tr><th scope=row>151</th><td>2</td><td>1541.3</td><td>182.6</td><td>225.7</td></tr>\n",
       "\t<tr><th scope=row>152</th><td>2</td><td>1604.8</td><td>188.0</td><td>230.6</td></tr>\n",
       "\t<tr><th scope=row>153</th><td>2</td><td>1592.1</td><td>188.9</td><td>232.0</td></tr>\n",
       "\t<tr><th scope=row>154</th><td>2</td><td>1518.3</td><td>184.6</td><td>227.2</td></tr>\n",
       "\t<tr><th scope=row>155</th><td>2</td><td>1553.6</td><td>186.8</td><td>230.3</td></tr>\n",
       "</tbody>\n",
       "</table>\n"
      ],
      "text/latex": [
       "A data.frame: 6 × 4\n",
       "\\begin{tabular}{r|llll}\n",
       "  & gender & height & hand.length & foot.length\\\\\n",
       "  & <fct> & <dbl> & <dbl> & <dbl>\\\\\n",
       "\\hline\n",
       "\t150 & 2 & 1606.0 & 189.1 & 232.6\\\\\n",
       "\t151 & 2 & 1541.3 & 182.6 & 225.7\\\\\n",
       "\t152 & 2 & 1604.8 & 188.0 & 230.6\\\\\n",
       "\t153 & 2 & 1592.1 & 188.9 & 232.0\\\\\n",
       "\t154 & 2 & 1518.3 & 184.6 & 227.2\\\\\n",
       "\t155 & 2 & 1553.6 & 186.8 & 230.3\\\\\n",
       "\\end{tabular}\n"
      ],
      "text/markdown": [
       "\n",
       "A data.frame: 6 × 4\n",
       "\n",
       "| <!--/--> | gender &lt;fct&gt; | height &lt;dbl&gt; | hand.length &lt;dbl&gt; | foot.length &lt;dbl&gt; |\n",
       "|---|---|---|---|---|\n",
       "| 150 | 2 | 1606.0 | 189.1 | 232.6 |\n",
       "| 151 | 2 | 1541.3 | 182.6 | 225.7 |\n",
       "| 152 | 2 | 1604.8 | 188.0 | 230.6 |\n",
       "| 153 | 2 | 1592.1 | 188.9 | 232.0 |\n",
       "| 154 | 2 | 1518.3 | 184.6 | 227.2 |\n",
       "| 155 | 2 | 1553.6 | 186.8 | 230.3 |\n",
       "\n"
      ],
      "text/plain": [
       "    gender height hand.length foot.length\n",
       "150 2      1606.0 189.1       232.6      \n",
       "151 2      1541.3 182.6       225.7      \n",
       "152 2      1604.8 188.0       230.6      \n",
       "153 2      1592.1 188.9       232.0      \n",
       "154 2      1518.3 184.6       227.2      \n",
       "155 2      1553.6 186.8       230.3      "
      ]
     },
     "metadata": {},
     "output_type": "display_data"
    },
    {
     "data": {
      "text/html": [
       "<table>\n",
       "<caption>A matrix: 3 × 3 of type dbl</caption>\n",
       "<thead>\n",
       "\t<tr><th></th><th scope=col>height</th><th scope=col>hand.length</th><th scope=col>foot.length</th></tr>\n",
       "</thead>\n",
       "<tbody>\n",
       "\t<tr><th scope=row>height</th><td>2424.1176</td><td>325.97589</td><td>416.98594</td></tr>\n",
       "\t<tr><th scope=row>hand.length</th><td> 325.9759</td><td> 87.14162</td><td> 68.93168</td></tr>\n",
       "\t<tr><th scope=row>foot.length</th><td> 416.9859</td><td> 68.93168</td><td>146.76091</td></tr>\n",
       "</tbody>\n",
       "</table>\n"
      ],
      "text/latex": [
       "A matrix: 3 × 3 of type dbl\n",
       "\\begin{tabular}{r|lll}\n",
       "  & height & hand.length & foot.length\\\\\n",
       "\\hline\n",
       "\theight & 2424.1176 & 325.97589 & 416.98594\\\\\n",
       "\thand.length &  325.9759 &  87.14162 &  68.93168\\\\\n",
       "\tfoot.length &  416.9859 &  68.93168 & 146.76091\\\\\n",
       "\\end{tabular}\n"
      ],
      "text/markdown": [
       "\n",
       "A matrix: 3 × 3 of type dbl\n",
       "\n",
       "| <!--/--> | height | hand.length | foot.length |\n",
       "|---|---|---|---|\n",
       "| height | 2424.1176 | 325.97589 | 416.98594 |\n",
       "| hand.length |  325.9759 |  87.14162 |  68.93168 |\n",
       "| foot.length |  416.9859 |  68.93168 | 146.76091 |\n",
       "\n"
      ],
      "text/plain": [
       "            height    hand.length foot.length\n",
       "height      2424.1176 325.97589   416.98594  \n",
       "hand.length  325.9759  87.14162    68.93168  \n",
       "foot.length  416.9859  68.93168   146.76091  "
      ]
     },
     "metadata": {},
     "output_type": "display_data"
    },
    {
     "data": {
      "text/html": [
       "<table>\n",
       "<caption>A matrix: 3 × 3 of type dbl</caption>\n",
       "<thead>\n",
       "\t<tr><th></th><th scope=col>height</th><th scope=col>hand.length</th><th scope=col>foot.length</th></tr>\n",
       "</thead>\n",
       "<tbody>\n",
       "\t<tr><th scope=row>height</th><td>1.0000000</td><td>0.7092443</td><td>0.6991001</td></tr>\n",
       "\t<tr><th scope=row>hand.length</th><td>0.7092443</td><td>1.0000000</td><td>0.6095380</td></tr>\n",
       "\t<tr><th scope=row>foot.length</th><td>0.6991001</td><td>0.6095380</td><td>1.0000000</td></tr>\n",
       "</tbody>\n",
       "</table>\n"
      ],
      "text/latex": [
       "A matrix: 3 × 3 of type dbl\n",
       "\\begin{tabular}{r|lll}\n",
       "  & height & hand.length & foot.length\\\\\n",
       "\\hline\n",
       "\theight & 1.0000000 & 0.7092443 & 0.6991001\\\\\n",
       "\thand.length & 0.7092443 & 1.0000000 & 0.6095380\\\\\n",
       "\tfoot.length & 0.6991001 & 0.6095380 & 1.0000000\\\\\n",
       "\\end{tabular}\n"
      ],
      "text/markdown": [
       "\n",
       "A matrix: 3 × 3 of type dbl\n",
       "\n",
       "| <!--/--> | height | hand.length | foot.length |\n",
       "|---|---|---|---|\n",
       "| height | 1.0000000 | 0.7092443 | 0.6991001 |\n",
       "| hand.length | 0.7092443 | 1.0000000 | 0.6095380 |\n",
       "| foot.length | 0.6991001 | 0.6095380 | 1.0000000 |\n",
       "\n"
      ],
      "text/plain": [
       "            height    hand.length foot.length\n",
       "height      1.0000000 0.7092443   0.6991001  \n",
       "hand.length 0.7092443 1.0000000   0.6095380  \n",
       "foot.length 0.6991001 0.6095380   1.0000000  "
      ]
     },
     "metadata": {},
     "output_type": "display_data"
    },
    {
     "data": {
      "text/html": [
       "<ol class=list-inline>\n",
       "\t<li>75</li>\n",
       "\t<li>4</li>\n",
       "</ol>\n"
      ],
      "text/latex": [
       "\\begin{enumerate*}\n",
       "\\item 75\n",
       "\\item 4\n",
       "\\end{enumerate*}\n"
      ],
      "text/markdown": [
       "1. 75\n",
       "2. 4\n",
       "\n",
       "\n"
      ],
      "text/plain": [
       "[1] 75  4"
      ]
     },
     "metadata": {},
     "output_type": "display_data"
    }
   ],
   "source": [
    "# Activity 9 code goes here \n",
    "# -------------------------\n",
    "df_female = subset(df2,gender == '2')\n",
    "tail(df_female)\n",
    "cov(df_female[2:4])\n",
    "cor(df_female[2:4])\n"
   ]
  },
  {
   "cell_type": "markdown",
   "metadata": {},
   "source": [
    "**Activity 10**: *Finally, create a scatter plot of these relationships. One for males and the other for females.*"
   ]
  },
  {
   "cell_type": "code",
   "execution_count": 93,
   "metadata": {},
   "outputs": [
    {
     "data": {
      "image/png": "[encoded data removed]",
      "text/plain": [
       "plot without title"
      ]
     },
     "metadata": {},
     "output_type": "display_data"
    },
    {
     "data": {
      "image/png": "[encoded data removed]",
      "text/plain": [
       "plot without title"
      ]
     },
     "metadata": {},
     "output_type": "display_data"
    }
   ],
   "source": [
    "# Activity 10 code goes here \n",
    "# --------------------------\n",
    "plot(df_male$hand.length,df_male$foot.length)\n",
    "plot(df_female$hand.length,df_female$foot.length)"
   ]
  },
  {
   "cell_type": "markdown",
   "metadata": {},
   "source": [
    "# Save your notebook, then `File > Close and Halt`"
   ]
  }
 ],
 "metadata": {
  "kernelspec": {
   "display_name": "R",
   "language": "R",
   "name": "ir"
  },
  "language_info": {
   "codemirror_mode": "r",
   "file_extension": ".r",
   "mimetype": "text/x-r-source",
   "name": "R",
   "pygments_lexer": "r",
   "version": "3.5.1"
  }
 },
 "nbformat": 4,
 "nbformat_minor": 2
}
