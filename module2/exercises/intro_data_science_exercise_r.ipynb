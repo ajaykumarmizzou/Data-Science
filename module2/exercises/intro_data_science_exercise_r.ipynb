{
 "cells": [
  {
   "cell_type": "markdown",
   "metadata": {},
   "source": [
    "# Manipulating Data with `R` Exercises\n",
    "\n",
    "In this Exercise notebook, you will be manipulating the Congress Terms data set with `R`. These data record some general information about every member in Congress dating back to the 1940s. We encourage you play get your hands dirty, and play around with this new data set to familiarize yourself with it. Be sure to follow the directions carefully and write as well as execute code in the designated cells."
   ]
  },
  {
   "cell_type": "markdown",
   "metadata": {},
   "source": [
    "**Question 1**: Read in the file `congress-terms.csv` under the `/dsa/data/all_datasets/` directory. Name this data frame \"`df`\"."
   ]
  },
  {
   "cell_type": "code",
   "execution_count": 6,
   "metadata": {},
   "outputs": [
    {
     "data": {
      "text/html": [
       "<table>\n",
       "<caption>A data.frame: 6 × 13</caption>\n",
       "<thead>\n",
       "\t<tr><th scope=col>congress</th><th scope=col>chamber</th><th scope=col>bioguide</th><th scope=col>firstname</th><th scope=col>middlename</th><th scope=col>lastname</th><th scope=col>suffix</th><th scope=col>birthday</th><th scope=col>state</th><th scope=col>party</th><th scope=col>incumbent</th><th scope=col>termstart</th><th scope=col>age</th></tr>\n",
       "\t<tr><th scope=col>&lt;int&gt;</th><th scope=col>&lt;fct&gt;</th><th scope=col>&lt;fct&gt;</th><th scope=col>&lt;fct&gt;</th><th scope=col>&lt;fct&gt;</th><th scope=col>&lt;fct&gt;</th><th scope=col>&lt;fct&gt;</th><th scope=col>&lt;fct&gt;</th><th scope=col>&lt;fct&gt;</th><th scope=col>&lt;fct&gt;</th><th scope=col>&lt;fct&gt;</th><th scope=col>&lt;fct&gt;</th><th scope=col>&lt;dbl&gt;</th></tr>\n",
       "</thead>\n",
       "<tbody>\n",
       "\t<tr><td>80</td><td>house</td><td>M000112</td><td>Joseph </td><td>Jefferson</td><td>Mansfield</td><td></td><td>1861-02-09</td><td>TX</td><td>D</td><td>Yes</td><td>1/3/47</td><td>85.9</td></tr>\n",
       "\t<tr><td>80</td><td>house</td><td>D000448</td><td>Robert </td><td>Lee      </td><td>Doughton </td><td></td><td>1863-11-07</td><td>NC</td><td>D</td><td>Yes</td><td>1/3/47</td><td>83.2</td></tr>\n",
       "\t<tr><td>80</td><td>house</td><td>S000001</td><td>Adolph </td><td>Joachim  </td><td>Sabath   </td><td></td><td>1866-04-04</td><td>IL</td><td>D</td><td>Yes</td><td>1/3/47</td><td>80.7</td></tr>\n",
       "\t<tr><td>80</td><td>house</td><td>E000023</td><td>Charles</td><td>Aubrey   </td><td>Eaton    </td><td></td><td>1868-03-29</td><td>NJ</td><td>R</td><td>Yes</td><td>1/3/47</td><td>78.8</td></tr>\n",
       "\t<tr><td>80</td><td>house</td><td>L000296</td><td>William</td><td>         </td><td>Lewis    </td><td></td><td>1868-09-22</td><td>KY</td><td>R</td><td>No </td><td>1/3/47</td><td>78.3</td></tr>\n",
       "\t<tr><td>80</td><td>house</td><td>G000017</td><td>James  </td><td>A.       </td><td>Gallagher</td><td></td><td>1869-01-16</td><td>PA</td><td>R</td><td>No </td><td>1/3/47</td><td>78.0</td></tr>\n",
       "</tbody>\n",
       "</table>\n"
      ],
      "text/latex": [
       "A data.frame: 6 × 13\n",
       "\\begin{tabular}{r|lllllllllllll}\n",
       " congress & chamber & bioguide & firstname & middlename & lastname & suffix & birthday & state & party & incumbent & termstart & age\\\\\n",
       " <int> & <fct> & <fct> & <fct> & <fct> & <fct> & <fct> & <fct> & <fct> & <fct> & <fct> & <fct> & <dbl>\\\\\n",
       "\\hline\n",
       "\t 80 & house & M000112 & Joseph  & Jefferson & Mansfield &  & 1861-02-09 & TX & D & Yes & 1/3/47 & 85.9\\\\\n",
       "\t 80 & house & D000448 & Robert  & Lee       & Doughton  &  & 1863-11-07 & NC & D & Yes & 1/3/47 & 83.2\\\\\n",
       "\t 80 & house & S000001 & Adolph  & Joachim   & Sabath    &  & 1866-04-04 & IL & D & Yes & 1/3/47 & 80.7\\\\\n",
       "\t 80 & house & E000023 & Charles & Aubrey    & Eaton     &  & 1868-03-29 & NJ & R & Yes & 1/3/47 & 78.8\\\\\n",
       "\t 80 & house & L000296 & William &           & Lewis     &  & 1868-09-22 & KY & R & No  & 1/3/47 & 78.3\\\\\n",
       "\t 80 & house & G000017 & James   & A.        & Gallagher &  & 1869-01-16 & PA & R & No  & 1/3/47 & 78.0\\\\\n",
       "\\end{tabular}\n"
      ],
      "text/markdown": [
       "\n",
       "A data.frame: 6 × 13\n",
       "\n",
       "| congress &lt;int&gt; | chamber &lt;fct&gt; | bioguide &lt;fct&gt; | firstname &lt;fct&gt; | middlename &lt;fct&gt; | lastname &lt;fct&gt; | suffix &lt;fct&gt; | birthday &lt;fct&gt; | state &lt;fct&gt; | party &lt;fct&gt; | incumbent &lt;fct&gt; | termstart &lt;fct&gt; | age &lt;dbl&gt; |\n",
       "|---|---|---|---|---|---|---|---|---|---|---|---|---|\n",
       "| 80 | house | M000112 | Joseph  | Jefferson | Mansfield | <!----> | 1861-02-09 | TX | D | Yes | 1/3/47 | 85.9 |\n",
       "| 80 | house | D000448 | Robert  | Lee       | Doughton  | <!----> | 1863-11-07 | NC | D | Yes | 1/3/47 | 83.2 |\n",
       "| 80 | house | S000001 | Adolph  | Joachim   | Sabath    | <!----> | 1866-04-04 | IL | D | Yes | 1/3/47 | 80.7 |\n",
       "| 80 | house | E000023 | Charles | Aubrey    | Eaton     | <!----> | 1868-03-29 | NJ | R | Yes | 1/3/47 | 78.8 |\n",
       "| 80 | house | L000296 | William | <!----> | Lewis     | <!----> | 1868-09-22 | KY | R | No  | 1/3/47 | 78.3 |\n",
       "| 80 | house | G000017 | James   | A.        | Gallagher | <!----> | 1869-01-16 | PA | R | No  | 1/3/47 | 78.0 |\n",
       "\n"
      ],
      "text/plain": [
       "  congress chamber bioguide firstname middlename lastname  suffix birthday  \n",
       "1 80       house   M000112  Joseph    Jefferson  Mansfield        1861-02-09\n",
       "2 80       house   D000448  Robert    Lee        Doughton         1863-11-07\n",
       "3 80       house   S000001  Adolph    Joachim    Sabath           1866-04-04\n",
       "4 80       house   E000023  Charles   Aubrey     Eaton            1868-03-29\n",
       "5 80       house   L000296  William              Lewis            1868-09-22\n",
       "6 80       house   G000017  James     A.         Gallagher        1869-01-16\n",
       "  state party incumbent termstart age \n",
       "1 TX    D     Yes       1/3/47    85.9\n",
       "2 NC    D     Yes       1/3/47    83.2\n",
       "3 IL    D     Yes       1/3/47    80.7\n",
       "4 NJ    R     Yes       1/3/47    78.8\n",
       "5 KY    R     No        1/3/47    78.3\n",
       "6 PA    R     No        1/3/47    78.0"
      ]
     },
     "metadata": {},
     "output_type": "display_data"
    },
    {
     "data": {
      "text/plain": [
       "    congress        chamber         bioguide       firstname    \n",
       " Min.   : 80.00   house :15083   D000355:   30   John   : 1453  \n",
       " 1st Qu.: 88.00   senate: 3552   B001210:   29   William:  935  \n",
       " Median : 96.00                  I000025:   27   James  :  855  \n",
       " Mean   : 96.45                  T000254:   26   Robert :  753  \n",
       " 3rd Qu.:105.00                  C000714:   25   Thomas :  512  \n",
       " Max.   :113.00                  K000105:   25   Charles:  488  \n",
       "                                 (Other):18473   (Other):13639  \n",
       "   middlename       lastname         suffix            birthday    \n",
       "        : 3536   Smith  :  185          :16937   3/31/40   :   36  \n",
       " E.     :  423   Johnson:  117   Jr.    : 1380   6/14/43   :   31  \n",
       " J.     :  385   Miller :  115   III    :  163   7/8/26    :   30  \n",
       " Joseph :  384   Davis  :   93   Sr.    :   66   11/20/17  :   28  \n",
       " A.     :  374   Young  :   92   II     :   53   10/6/39   :   27  \n",
       " M.     :  330   Brown  :   90   IV     :   19   1902-12-05:   26  \n",
       " (Other):13203   (Other):17943   (Other):   17   (Other)   :18457  \n",
       "     state       party      incumbent     termstart          age       \n",
       " CA     : 1534   AL:    3   No : 2937   1/3/61 :  559   Min.   :25.00  \n",
       " NY     : 1347   D :10290   Yes:15698   1/3/49 :  557   1st Qu.:45.40  \n",
       " TX     :  985   I :   63               1/3/53 :  557   Median :53.00  \n",
       " PA     :  939   ID:    4               1/3/47 :  555   Mean   :53.31  \n",
       " IL     :  849   L :    1               1/3/51 :  555   3rd Qu.:60.55  \n",
       " OH     :  809   R : 8274               1/6/09 :  555   Max.   :98.10  \n",
       " (Other):12172                          (Other):15297                  "
      ]
     },
     "metadata": {},
     "output_type": "display_data"
    },
    {
     "data": {
      "text/html": [
       "<ol class=list-inline>\n",
       "\t<li>18635</li>\n",
       "\t<li>13</li>\n",
       "</ol>\n"
      ],
      "text/latex": [
       "\\begin{enumerate*}\n",
       "\\item 18635\n",
       "\\item 13\n",
       "\\end{enumerate*}\n"
      ],
      "text/markdown": [
       "1. 18635\n",
       "2. 13\n",
       "\n",
       "\n"
      ],
      "text/plain": [
       "[1] 18635    13"
      ]
     },
     "metadata": {},
     "output_type": "display_data"
    }
   ],
   "source": [
    "# Execute your code for question 1 here\n",
    "# -------------------------------------\n",
    "df = read.csv('/dsa/data/all_datasets/congress-terms.csv')\n",
    "head(df)\n",
    "summary(df)\n",
    "dim(df)"
   ]
  },
  {
   "cell_type": "markdown",
   "metadata": {},
   "source": [
    "**Question 2**: Now split the data frame, `df`, into 2 data frames based on the Republican and Democratic party. Save them in a variables named \"`republican`\" and \"`democrat`\" respectively. Which data set has more rows?"
   ]
  },
  {
   "cell_type": "code",
   "execution_count": 8,
   "metadata": {},
   "outputs": [
    {
     "data": {
      "text/html": [
       "<ol class=list-inline>\n",
       "\t<li>8274</li>\n",
       "\t<li>13</li>\n",
       "</ol>\n"
      ],
      "text/latex": [
       "\\begin{enumerate*}\n",
       "\\item 8274\n",
       "\\item 13\n",
       "\\end{enumerate*}\n"
      ],
      "text/markdown": [
       "1. 8274\n",
       "2. 13\n",
       "\n",
       "\n"
      ],
      "text/plain": [
       "[1] 8274   13"
      ]
     },
     "metadata": {},
     "output_type": "display_data"
    },
    {
     "data": {
      "text/html": [
       "<ol class=list-inline>\n",
       "\t<li>10290</li>\n",
       "\t<li>13</li>\n",
       "</ol>\n"
      ],
      "text/latex": [
       "\\begin{enumerate*}\n",
       "\\item 10290\n",
       "\\item 13\n",
       "\\end{enumerate*}\n"
      ],
      "text/markdown": [
       "1. 10290\n",
       "2. 13\n",
       "\n",
       "\n"
      ],
      "text/plain": [
       "[1] 10290    13"
      ]
     },
     "metadata": {},
     "output_type": "display_data"
    },
    {
     "data": {
      "text/html": [
       "2016"
      ],
      "text/latex": [
       "2016"
      ],
      "text/markdown": [
       "2016"
      ],
      "text/plain": [
       "[1] 2016"
      ]
     },
     "metadata": {},
     "output_type": "display_data"
    }
   ],
   "source": [
    "# Execute your code for question 2 here\n",
    "# -------------------------------------\n",
    "republican = subset(df,party == 'R')\n",
    "democrat = subset(df,party == 'D')\n",
    "dim(republican)\n",
    "dim(democrat)\n",
    "#Democrat has more rows i.e. 10290 "
   ]
  },
  {
   "cell_type": "markdown",
   "metadata": {},
   "source": [
    "**Question 3**:  Are there any other codes for political parties other than Democrat and Republican? If so, what are these other codes? What function did you use to find this?"
   ]
  },
  {
   "cell_type": "code",
   "execution_count": 9,
   "metadata": {},
   "outputs": [
    {
     "data": {
      "text/plain": [
       "    congress        chamber         bioguide       firstname    \n",
       " Min.   : 80.00   house :15083   D000355:   30   John   : 1453  \n",
       " 1st Qu.: 88.00   senate: 3552   B001210:   29   William:  935  \n",
       " Median : 96.00                  I000025:   27   James  :  855  \n",
       " Mean   : 96.45                  T000254:   26   Robert :  753  \n",
       " 3rd Qu.:105.00                  C000714:   25   Thomas :  512  \n",
       " Max.   :113.00                  K000105:   25   Charles:  488  \n",
       "                                 (Other):18473   (Other):13639  \n",
       "   middlename       lastname         suffix            birthday    \n",
       "        : 3536   Smith  :  185          :16937   3/31/40   :   36  \n",
       " E.     :  423   Johnson:  117   Jr.    : 1380   6/14/43   :   31  \n",
       " J.     :  385   Miller :  115   III    :  163   7/8/26    :   30  \n",
       " Joseph :  384   Davis  :   93   Sr.    :   66   11/20/17  :   28  \n",
       " A.     :  374   Young  :   92   II     :   53   10/6/39   :   27  \n",
       " M.     :  330   Brown  :   90   IV     :   19   1902-12-05:   26  \n",
       " (Other):13203   (Other):17943   (Other):   17   (Other)   :18457  \n",
       "     state       party      incumbent     termstart          age       \n",
       " CA     : 1534   AL:    3   No : 2937   1/3/61 :  559   Min.   :25.00  \n",
       " NY     : 1347   D :10290   Yes:15698   1/3/49 :  557   1st Qu.:45.40  \n",
       " TX     :  985   I :   63               1/3/53 :  557   Median :53.00  \n",
       " PA     :  939   ID:    4               1/3/47 :  555   Mean   :53.31  \n",
       " IL     :  849   L :    1               1/3/51 :  555   3rd Qu.:60.55  \n",
       " OH     :  809   R : 8274               1/6/09 :  555   Max.   :98.10  \n",
       " (Other):12172                          (Other):15297                  "
      ]
     },
     "metadata": {},
     "output_type": "display_data"
    }
   ],
   "source": [
    "# Write your code for question 3 here\n",
    "# -------------------------------------\n",
    "summary(df)\n"
   ]
  },
  {
   "cell_type": "raw",
   "metadata": {},
   "source": [
    "Answer the question above here.\n",
    "3. Yes, There are total six categories in party attribute (AL, D, I, ID, L, R). I used summary function to see the it.\n"
   ]
  },
  {
   "cell_type": "markdown",
   "metadata": {},
   "source": [
    "**Question 4**: Sort the `republicans` and `democrats` data frames by age and return the 5 oldest and youngest from each party. "
   ]
  },
  {
   "cell_type": "code",
   "execution_count": 15,
   "metadata": {},
   "outputs": [
    {
     "data": {
      "text/html": [
       "<table>\n",
       "<caption>A data.frame: 10 × 13</caption>\n",
       "<thead>\n",
       "\t<tr><th></th><th scope=col>congress</th><th scope=col>chamber</th><th scope=col>bioguide</th><th scope=col>firstname</th><th scope=col>middlename</th><th scope=col>lastname</th><th scope=col>suffix</th><th scope=col>birthday</th><th scope=col>state</th><th scope=col>party</th><th scope=col>incumbent</th><th scope=col>termstart</th><th scope=col>age</th></tr>\n",
       "\t<tr><th></th><th scope=col>&lt;int&gt;</th><th scope=col>&lt;fct&gt;</th><th scope=col>&lt;fct&gt;</th><th scope=col>&lt;fct&gt;</th><th scope=col>&lt;fct&gt;</th><th scope=col>&lt;fct&gt;</th><th scope=col>&lt;fct&gt;</th><th scope=col>&lt;fct&gt;</th><th scope=col>&lt;fct&gt;</th><th scope=col>&lt;fct&gt;</th><th scope=col>&lt;fct&gt;</th><th scope=col>&lt;fct&gt;</th><th scope=col>&lt;dbl&gt;</th></tr>\n",
       "</thead>\n",
       "<tbody>\n",
       "\t<tr><th scope=row>8166</th><td> 94</td><td>house </td><td>E000175</td><td>David  </td><td>Farnham</td><td>Emery       </td><td>   </td><td>9/1/48    </td><td>ME</td><td>R</td><td>No </td><td>1/14/75</td><td>26.4</td></tr>\n",
       "\t<tr><th scope=row>15255</th><td>107</td><td>house </td><td>P000586</td><td>Adam   </td><td>H.     </td><td>Putnam      </td><td>   </td><td>7/31/74   </td><td>FL</td><td>R</td><td>No </td><td>1/3/01 </td><td>26.4</td></tr>\n",
       "\t<tr><th scope=row>2110</th><td> 83</td><td>house </td><td>W000121</td><td>William</td><td>Creed  </td><td>Wampler     </td><td>   </td><td>4/21/26   </td><td>VA</td><td>R</td><td>No </td><td>1/3/53 </td><td>26.7</td></tr>\n",
       "\t<tr><th scope=row>452</th><td> 80</td><td>house </td><td>S000063</td><td>George </td><td>William</td><td>Sarbacher   </td><td>Jr.</td><td>9/30/19   </td><td>PA</td><td>R</td><td>No </td><td>1/3/47 </td><td>27.3</td></tr>\n",
       "\t<tr><th scope=row>9814</th><td> 97</td><td>house </td><td>L000547</td><td>John   </td><td>       </td><td>LeBoutillier</td><td>   </td><td>5/26/53   </td><td>NY</td><td>R</td><td>No </td><td>1/5/81 </td><td>27.6</td></tr>\n",
       "\t<tr><th scope=row>13082</th><td>103</td><td>senate</td><td>T000254</td><td>J.     </td><td>Strom  </td><td>Thurmond    </td><td>   </td><td>1902-12-05</td><td>SC</td><td>R</td><td>Yes</td><td>1/5/93 </td><td>90.1</td></tr>\n",
       "\t<tr><th scope=row>13628</th><td>104</td><td>senate</td><td>T000254</td><td>J.     </td><td>Strom  </td><td>Thurmond    </td><td>   </td><td>1902-12-05</td><td>SC</td><td>R</td><td>Yes</td><td>1/4/95 </td><td>92.1</td></tr>\n",
       "\t<tr><th scope=row>14175</th><td>105</td><td>senate</td><td>T000254</td><td>J.     </td><td>Strom  </td><td>Thurmond    </td><td>   </td><td>1902-12-05</td><td>SC</td><td>R</td><td>Yes</td><td>1/7/97 </td><td>94.1</td></tr>\n",
       "\t<tr><th scope=row>14712</th><td>106</td><td>senate</td><td>T000254</td><td>J.     </td><td>Strom  </td><td>Thurmond    </td><td>   </td><td>1902-12-05</td><td>SC</td><td>R</td><td>Yes</td><td>1/6/99 </td><td>96.1</td></tr>\n",
       "\t<tr><th scope=row>15256</th><td>107</td><td>senate</td><td>T000254</td><td>J.     </td><td>Strom  </td><td>Thurmond    </td><td>   </td><td>1902-12-05</td><td>SC</td><td>R</td><td>Yes</td><td>1/3/01 </td><td>98.1</td></tr>\n",
       "</tbody>\n",
       "</table>\n"
      ],
      "text/latex": [
       "A data.frame: 10 × 13\n",
       "\\begin{tabular}{r|lllllllllllll}\n",
       "  & congress & chamber & bioguide & firstname & middlename & lastname & suffix & birthday & state & party & incumbent & termstart & age\\\\\n",
       "  & <int> & <fct> & <fct> & <fct> & <fct> & <fct> & <fct> & <fct> & <fct> & <fct> & <fct> & <fct> & <dbl>\\\\\n",
       "\\hline\n",
       "\t8166 &  94 & house  & E000175 & David   & Farnham & Emery        &     & 9/1/48     & ME & R & No  & 1/14/75 & 26.4\\\\\n",
       "\t15255 & 107 & house  & P000586 & Adam    & H.      & Putnam       &     & 7/31/74    & FL & R & No  & 1/3/01  & 26.4\\\\\n",
       "\t2110 &  83 & house  & W000121 & William & Creed   & Wampler      &     & 4/21/26    & VA & R & No  & 1/3/53  & 26.7\\\\\n",
       "\t452 &  80 & house  & S000063 & George  & William & Sarbacher    & Jr. & 9/30/19    & PA & R & No  & 1/3/47  & 27.3\\\\\n",
       "\t9814 &  97 & house  & L000547 & John    &         & LeBoutillier &     & 5/26/53    & NY & R & No  & 1/5/81  & 27.6\\\\\n",
       "\t13082 & 103 & senate & T000254 & J.      & Strom   & Thurmond     &     & 1902-12-05 & SC & R & Yes & 1/5/93  & 90.1\\\\\n",
       "\t13628 & 104 & senate & T000254 & J.      & Strom   & Thurmond     &     & 1902-12-05 & SC & R & Yes & 1/4/95  & 92.1\\\\\n",
       "\t14175 & 105 & senate & T000254 & J.      & Strom   & Thurmond     &     & 1902-12-05 & SC & R & Yes & 1/7/97  & 94.1\\\\\n",
       "\t14712 & 106 & senate & T000254 & J.      & Strom   & Thurmond     &     & 1902-12-05 & SC & R & Yes & 1/6/99  & 96.1\\\\\n",
       "\t15256 & 107 & senate & T000254 & J.      & Strom   & Thurmond     &     & 1902-12-05 & SC & R & Yes & 1/3/01  & 98.1\\\\\n",
       "\\end{tabular}\n"
      ],
      "text/markdown": [
       "\n",
       "A data.frame: 10 × 13\n",
       "\n",
       "| <!--/--> | congress &lt;int&gt; | chamber &lt;fct&gt; | bioguide &lt;fct&gt; | firstname &lt;fct&gt; | middlename &lt;fct&gt; | lastname &lt;fct&gt; | suffix &lt;fct&gt; | birthday &lt;fct&gt; | state &lt;fct&gt; | party &lt;fct&gt; | incumbent &lt;fct&gt; | termstart &lt;fct&gt; | age &lt;dbl&gt; |\n",
       "|---|---|---|---|---|---|---|---|---|---|---|---|---|---|\n",
       "| 8166 |  94 | house  | E000175 | David   | Farnham | Emery        | <!----> | 9/1/48     | ME | R | No  | 1/14/75 | 26.4 |\n",
       "| 15255 | 107 | house  | P000586 | Adam    | H.      | Putnam       | <!----> | 7/31/74    | FL | R | No  | 1/3/01  | 26.4 |\n",
       "| 2110 |  83 | house  | W000121 | William | Creed   | Wampler      | <!----> | 4/21/26    | VA | R | No  | 1/3/53  | 26.7 |\n",
       "| 452 |  80 | house  | S000063 | George  | William | Sarbacher    | Jr. | 9/30/19    | PA | R | No  | 1/3/47  | 27.3 |\n",
       "| 9814 |  97 | house  | L000547 | John    | <!----> | LeBoutillier | <!----> | 5/26/53    | NY | R | No  | 1/5/81  | 27.6 |\n",
       "| 13082 | 103 | senate | T000254 | J.      | Strom   | Thurmond     | <!----> | 1902-12-05 | SC | R | Yes | 1/5/93  | 90.1 |\n",
       "| 13628 | 104 | senate | T000254 | J.      | Strom   | Thurmond     | <!----> | 1902-12-05 | SC | R | Yes | 1/4/95  | 92.1 |\n",
       "| 14175 | 105 | senate | T000254 | J.      | Strom   | Thurmond     | <!----> | 1902-12-05 | SC | R | Yes | 1/7/97  | 94.1 |\n",
       "| 14712 | 106 | senate | T000254 | J.      | Strom   | Thurmond     | <!----> | 1902-12-05 | SC | R | Yes | 1/6/99  | 96.1 |\n",
       "| 15256 | 107 | senate | T000254 | J.      | Strom   | Thurmond     | <!----> | 1902-12-05 | SC | R | Yes | 1/3/01  | 98.1 |\n",
       "\n"
      ],
      "text/plain": [
       "      congress chamber bioguide firstname middlename lastname     suffix\n",
       "8166   94      house   E000175  David     Farnham    Emery              \n",
       "15255 107      house   P000586  Adam      H.         Putnam             \n",
       "2110   83      house   W000121  William   Creed      Wampler            \n",
       "452    80      house   S000063  George    William    Sarbacher    Jr.   \n",
       "9814   97      house   L000547  John                 LeBoutillier       \n",
       "13082 103      senate  T000254  J.        Strom      Thurmond           \n",
       "13628 104      senate  T000254  J.        Strom      Thurmond           \n",
       "14175 105      senate  T000254  J.        Strom      Thurmond           \n",
       "14712 106      senate  T000254  J.        Strom      Thurmond           \n",
       "15256 107      senate  T000254  J.        Strom      Thurmond           \n",
       "      birthday   state party incumbent termstart age \n",
       "8166  9/1/48     ME    R     No        1/14/75   26.4\n",
       "15255 7/31/74    FL    R     No        1/3/01    26.4\n",
       "2110  4/21/26    VA    R     No        1/3/53    26.7\n",
       "452   9/30/19    PA    R     No        1/3/47    27.3\n",
       "9814  5/26/53    NY    R     No        1/5/81    27.6\n",
       "13082 1902-12-05 SC    R     Yes       1/5/93    90.1\n",
       "13628 1902-12-05 SC    R     Yes       1/4/95    92.1\n",
       "14175 1902-12-05 SC    R     Yes       1/7/97    94.1\n",
       "14712 1902-12-05 SC    R     Yes       1/6/99    96.1\n",
       "15256 1902-12-05 SC    R     Yes       1/3/01    98.1"
      ]
     },
     "metadata": {},
     "output_type": "display_data"
    },
    {
     "data": {
      "text/html": [
       "<table>\n",
       "<caption>A data.frame: 10 × 13</caption>\n",
       "<thead>\n",
       "\t<tr><th></th><th scope=col>congress</th><th scope=col>chamber</th><th scope=col>bioguide</th><th scope=col>firstname</th><th scope=col>middlename</th><th scope=col>lastname</th><th scope=col>suffix</th><th scope=col>birthday</th><th scope=col>state</th><th scope=col>party</th><th scope=col>incumbent</th><th scope=col>termstart</th><th scope=col>age</th></tr>\n",
       "\t<tr><th></th><th scope=col>&lt;int&gt;</th><th scope=col>&lt;fct&gt;</th><th scope=col>&lt;fct&gt;</th><th scope=col>&lt;fct&gt;</th><th scope=col>&lt;fct&gt;</th><th scope=col>&lt;fct&gt;</th><th scope=col>&lt;fct&gt;</th><th scope=col>&lt;fct&gt;</th><th scope=col>&lt;fct&gt;</th><th scope=col>&lt;fct&gt;</th><th scope=col>&lt;fct&gt;</th><th scope=col>&lt;fct&gt;</th><th scope=col>&lt;dbl&gt;</th></tr>\n",
       "</thead>\n",
       "<tbody>\n",
       "\t<tr><th scope=row>5423</th><td> 89</td><td>house </td><td>J000151</td><td>Jed     </td><td>Joseph  </td><td>Johnson   </td><td>Jr.</td><td>12/27/39  </td><td>OK</td><td>D</td><td>No </td><td>1/4/65 </td><td>25.0</td></tr>\n",
       "\t<tr><th scope=row>453</th><td> 80</td><td>house </td><td>B000401</td><td>Lloyd   </td><td>Millard </td><td>Bentsen   </td><td>Jr.</td><td>2/11/21   </td><td>TX</td><td>D</td><td>No </td><td>1/3/47 </td><td>25.9</td></tr>\n",
       "\t<tr><th scope=row>8167</th><td> 94</td><td>house </td><td>D000471</td><td>Thomas  </td><td>Joseph  </td><td>Downey    </td><td>   </td><td>1/28/49   </td><td>NY</td><td>D</td><td>No </td><td>1/14/75</td><td>26.0</td></tr>\n",
       "\t<tr><th scope=row>5422</th><td> 89</td><td>house </td><td>G000420</td><td>William </td><td>Joseph  </td><td>Green     </td><td>   </td><td>6/24/38   </td><td>PA</td><td>D</td><td>No </td><td>1/4/65 </td><td>26.5</td></tr>\n",
       "\t<tr><th scope=row>14174</th><td>105</td><td>house </td><td>F000262</td><td>Harold  </td><td>E.      </td><td>Ford      </td><td>Jr.</td><td>5/11/70   </td><td>TN</td><td>D</td><td>No </td><td>1/7/97 </td><td>26.7</td></tr>\n",
       "\t<tr><th scope=row>5968</th><td> 90</td><td>senate</td><td>H000385</td><td>Carl    </td><td>Trumbull</td><td>Hayden    </td><td>   </td><td>1877-10-02</td><td>AZ</td><td>D</td><td>Yes</td><td>1/10/67</td><td>89.3</td></tr>\n",
       "\t<tr><th scope=row>18091</th><td>112</td><td>senate</td><td>I000025</td><td>Daniel  </td><td>K.      </td><td>Inouye    </td><td>   </td><td>9/6/20    </td><td>HI</td><td>D</td><td>Yes</td><td>1/5/11 </td><td>90.3</td></tr>\n",
       "\t<tr><th scope=row>3764</th><td> 86</td><td>senate</td><td>G000418</td><td>Theodore</td><td>Francis </td><td>Green     </td><td>   </td><td>1867-10-02</td><td>RI</td><td>D</td><td>Yes</td><td>1/7/59 </td><td>91.3</td></tr>\n",
       "\t<tr><th scope=row>18635</th><td>113</td><td>senate</td><td>L000123</td><td>Frank   </td><td>R.      </td><td>Lautenberg</td><td>   </td><td>1/22/20   </td><td>NJ</td><td>D</td><td>Yes</td><td>1/3/13 </td><td>93.0</td></tr>\n",
       "\t<tr><th scope=row>17536</th><td>111</td><td>senate</td><td>B001210</td><td>Robert  </td><td>C.      </td><td>Byrd      </td><td>   </td><td>11/19/13  </td><td>WV</td><td>D</td><td>Yes</td><td>1/6/09 </td><td>95.1</td></tr>\n",
       "</tbody>\n",
       "</table>\n"
      ],
      "text/latex": [
       "A data.frame: 10 × 13\n",
       "\\begin{tabular}{r|lllllllllllll}\n",
       "  & congress & chamber & bioguide & firstname & middlename & lastname & suffix & birthday & state & party & incumbent & termstart & age\\\\\n",
       "  & <int> & <fct> & <fct> & <fct> & <fct> & <fct> & <fct> & <fct> & <fct> & <fct> & <fct> & <fct> & <dbl>\\\\\n",
       "\\hline\n",
       "\t5423 &  89 & house  & J000151 & Jed      & Joseph   & Johnson    & Jr. & 12/27/39   & OK & D & No  & 1/4/65  & 25.0\\\\\n",
       "\t453 &  80 & house  & B000401 & Lloyd    & Millard  & Bentsen    & Jr. & 2/11/21    & TX & D & No  & 1/3/47  & 25.9\\\\\n",
       "\t8167 &  94 & house  & D000471 & Thomas   & Joseph   & Downey     &     & 1/28/49    & NY & D & No  & 1/14/75 & 26.0\\\\\n",
       "\t5422 &  89 & house  & G000420 & William  & Joseph   & Green      &     & 6/24/38    & PA & D & No  & 1/4/65  & 26.5\\\\\n",
       "\t14174 & 105 & house  & F000262 & Harold   & E.       & Ford       & Jr. & 5/11/70    & TN & D & No  & 1/7/97  & 26.7\\\\\n",
       "\t5968 &  90 & senate & H000385 & Carl     & Trumbull & Hayden     &     & 1877-10-02 & AZ & D & Yes & 1/10/67 & 89.3\\\\\n",
       "\t18091 & 112 & senate & I000025 & Daniel   & K.       & Inouye     &     & 9/6/20     & HI & D & Yes & 1/5/11  & 90.3\\\\\n",
       "\t3764 &  86 & senate & G000418 & Theodore & Francis  & Green      &     & 1867-10-02 & RI & D & Yes & 1/7/59  & 91.3\\\\\n",
       "\t18635 & 113 & senate & L000123 & Frank    & R.       & Lautenberg &     & 1/22/20    & NJ & D & Yes & 1/3/13  & 93.0\\\\\n",
       "\t17536 & 111 & senate & B001210 & Robert   & C.       & Byrd       &     & 11/19/13   & WV & D & Yes & 1/6/09  & 95.1\\\\\n",
       "\\end{tabular}\n"
      ],
      "text/markdown": [
       "\n",
       "A data.frame: 10 × 13\n",
       "\n",
       "| <!--/--> | congress &lt;int&gt; | chamber &lt;fct&gt; | bioguide &lt;fct&gt; | firstname &lt;fct&gt; | middlename &lt;fct&gt; | lastname &lt;fct&gt; | suffix &lt;fct&gt; | birthday &lt;fct&gt; | state &lt;fct&gt; | party &lt;fct&gt; | incumbent &lt;fct&gt; | termstart &lt;fct&gt; | age &lt;dbl&gt; |\n",
       "|---|---|---|---|---|---|---|---|---|---|---|---|---|---|\n",
       "| 5423 |  89 | house  | J000151 | Jed      | Joseph   | Johnson    | Jr. | 12/27/39   | OK | D | No  | 1/4/65  | 25.0 |\n",
       "| 453 |  80 | house  | B000401 | Lloyd    | Millard  | Bentsen    | Jr. | 2/11/21    | TX | D | No  | 1/3/47  | 25.9 |\n",
       "| 8167 |  94 | house  | D000471 | Thomas   | Joseph   | Downey     | <!----> | 1/28/49    | NY | D | No  | 1/14/75 | 26.0 |\n",
       "| 5422 |  89 | house  | G000420 | William  | Joseph   | Green      | <!----> | 6/24/38    | PA | D | No  | 1/4/65  | 26.5 |\n",
       "| 14174 | 105 | house  | F000262 | Harold   | E.       | Ford       | Jr. | 5/11/70    | TN | D | No  | 1/7/97  | 26.7 |\n",
       "| 5968 |  90 | senate | H000385 | Carl     | Trumbull | Hayden     | <!----> | 1877-10-02 | AZ | D | Yes | 1/10/67 | 89.3 |\n",
       "| 18091 | 112 | senate | I000025 | Daniel   | K.       | Inouye     | <!----> | 9/6/20     | HI | D | Yes | 1/5/11  | 90.3 |\n",
       "| 3764 |  86 | senate | G000418 | Theodore | Francis  | Green      | <!----> | 1867-10-02 | RI | D | Yes | 1/7/59  | 91.3 |\n",
       "| 18635 | 113 | senate | L000123 | Frank    | R.       | Lautenberg | <!----> | 1/22/20    | NJ | D | Yes | 1/3/13  | 93.0 |\n",
       "| 17536 | 111 | senate | B001210 | Robert   | C.       | Byrd       | <!----> | 11/19/13   | WV | D | Yes | 1/6/09  | 95.1 |\n",
       "\n"
      ],
      "text/plain": [
       "      congress chamber bioguide firstname middlename lastname   suffix\n",
       "5423   89      house   J000151  Jed       Joseph     Johnson    Jr.   \n",
       "453    80      house   B000401  Lloyd     Millard    Bentsen    Jr.   \n",
       "8167   94      house   D000471  Thomas    Joseph     Downey           \n",
       "5422   89      house   G000420  William   Joseph     Green            \n",
       "14174 105      house   F000262  Harold    E.         Ford       Jr.   \n",
       "5968   90      senate  H000385  Carl      Trumbull   Hayden           \n",
       "18091 112      senate  I000025  Daniel    K.         Inouye           \n",
       "3764   86      senate  G000418  Theodore  Francis    Green            \n",
       "18635 113      senate  L000123  Frank     R.         Lautenberg       \n",
       "17536 111      senate  B001210  Robert    C.         Byrd             \n",
       "      birthday   state party incumbent termstart age \n",
       "5423  12/27/39   OK    D     No        1/4/65    25.0\n",
       "453   2/11/21    TX    D     No        1/3/47    25.9\n",
       "8167  1/28/49    NY    D     No        1/14/75   26.0\n",
       "5422  6/24/38    PA    D     No        1/4/65    26.5\n",
       "14174 5/11/70    TN    D     No        1/7/97    26.7\n",
       "5968  1877-10-02 AZ    D     Yes       1/10/67   89.3\n",
       "18091 9/6/20     HI    D     Yes       1/5/11    90.3\n",
       "3764  1867-10-02 RI    D     Yes       1/7/59    91.3\n",
       "18635 1/22/20    NJ    D     Yes       1/3/13    93.0\n",
       "17536 11/19/13   WV    D     Yes       1/6/09    95.1"
      ]
     },
     "metadata": {},
     "output_type": "display_data"
    }
   ],
   "source": [
    "# Execute your code for question 4 here\n",
    "# -------------------------------------\n",
    "republican_age_sorted = republican[order(republican$age),]\n",
    "rbind(head(republican_age_sorted,5),tail(republican_age_sorted,5))\n",
    "\n",
    "democrat_age_sorted = democrat[order(democrat$age),]\n",
    "rbind(head(democrat_age_sorted,5),tail(democrat_age_sorted,5))\n"
   ]
  },
  {
   "cell_type": "markdown",
   "metadata": {},
   "source": [
    "**Question 5**: Now, let's start using the package `dplyr` to perform some basic data manipulations. If you noticed, the `df$chamber` column contains whether or not the individual belonged to the `house` or the `senate`. Using `dplyr` create a frame of data that returns the youngest member from each chamber per party (including those other than Republican or Democrat)."
   ]
  },
  {
   "cell_type": "code",
   "execution_count": 67,
   "metadata": {},
   "outputs": [
    {
     "data": {
      "text/html": [
       "<ol class=list-inline>\n",
       "\t<li>18635</li>\n",
       "\t<li>13</li>\n",
       "</ol>\n"
      ],
      "text/latex": [
       "\\begin{enumerate*}\n",
       "\\item 18635\n",
       "\\item 13\n",
       "\\end{enumerate*}\n"
      ],
      "text/markdown": [
       "1. 18635\n",
       "2. 13\n",
       "\n",
       "\n"
      ],
      "text/plain": [
       "[1] 18635    13"
      ]
     },
     "metadata": {},
     "output_type": "display_data"
    },
    {
     "data": {
      "text/html": [
       "<ol class=list-inline>\n",
       "\t<li>15083</li>\n",
       "\t<li>13</li>\n",
       "</ol>\n"
      ],
      "text/latex": [
       "\\begin{enumerate*}\n",
       "\\item 15083\n",
       "\\item 13\n",
       "\\end{enumerate*}\n"
      ],
      "text/markdown": [
       "1. 15083\n",
       "2. 13\n",
       "\n",
       "\n"
      ],
      "text/plain": [
       "[1] 15083    13"
      ]
     },
     "metadata": {},
     "output_type": "display_data"
    },
    {
     "data": {
      "text/html": [
       "<ol class=list-inline>\n",
       "\t<li>3552</li>\n",
       "\t<li>13</li>\n",
       "</ol>\n"
      ],
      "text/latex": [
       "\\begin{enumerate*}\n",
       "\\item 3552\n",
       "\\item 13\n",
       "\\end{enumerate*}\n"
      ],
      "text/markdown": [
       "1. 3552\n",
       "2. 13\n",
       "\n",
       "\n"
      ],
      "text/plain": [
       "[1] 3552   13"
      ]
     },
     "metadata": {},
     "output_type": "display_data"
    }
   ],
   "source": [
    "# Execute your code for question 5 here\n",
    "# -------------------------------------\n",
    "library(dplyr)\n",
    "dim(df)\n",
    "df_house = df %>%\n",
    "    filter(chamber == \"house\") %>%\n",
    "    arrange(party,age)\n",
    "dim(df_house)\n",
    "write.csv(df_house,\"df_house.csv\")\n",
    "df_senate = df %>%\n",
    "    filter(chamber == \"senate\") %>%\n",
    "    arrange(party,age)       \n",
    "dim(df_senate)\n",
    "#print(df_house)\n",
    "write.csv(df_senate,\"df_senate.csv\")\n",
    "\n",
    "#Answers\n",
    "# HOUSE - AL: 36.7 , D:25 , I: 49.3, ID: 42.9 , L: 34.4, R:26.4\n",
    "# SENATE - AL: NA , D:25 , I: 35, ID: 64.9 , L: NA, R:32.1"
   ]
  },
  {
   "cell_type": "markdown",
   "metadata": {},
   "source": [
    "**Question 6**: Now, using `dplyr`, create the same frame as above except for the oldest member per chamber, per party."
   ]
  },
  {
   "cell_type": "code",
   "execution_count": 68,
   "metadata": {},
   "outputs": [
    {
     "data": {
      "text/html": [
       "<ol class=list-inline>\n",
       "\t<li>18635</li>\n",
       "\t<li>13</li>\n",
       "</ol>\n"
      ],
      "text/latex": [
       "\\begin{enumerate*}\n",
       "\\item 18635\n",
       "\\item 13\n",
       "\\end{enumerate*}\n"
      ],
      "text/markdown": [
       "1. 18635\n",
       "2. 13\n",
       "\n",
       "\n"
      ],
      "text/plain": [
       "[1] 18635    13"
      ]
     },
     "metadata": {},
     "output_type": "display_data"
    },
    {
     "data": {
      "text/html": [
       "<ol class=list-inline>\n",
       "\t<li>15083</li>\n",
       "\t<li>13</li>\n",
       "</ol>\n"
      ],
      "text/latex": [
       "\\begin{enumerate*}\n",
       "\\item 15083\n",
       "\\item 13\n",
       "\\end{enumerate*}\n"
      ],
      "text/markdown": [
       "1. 15083\n",
       "2. 13\n",
       "\n",
       "\n"
      ],
      "text/plain": [
       "[1] 15083    13"
      ]
     },
     "metadata": {},
     "output_type": "display_data"
    },
    {
     "data": {
      "text/html": [
       "<ol class=list-inline>\n",
       "\t<li>3552</li>\n",
       "\t<li>13</li>\n",
       "</ol>\n"
      ],
      "text/latex": [
       "\\begin{enumerate*}\n",
       "\\item 3552\n",
       "\\item 13\n",
       "\\end{enumerate*}\n"
      ],
      "text/markdown": [
       "1. 3552\n",
       "2. 13\n",
       "\n",
       "\n"
      ],
      "text/plain": [
       "[1] 3552   13"
      ]
     },
     "metadata": {},
     "output_type": "display_data"
    }
   ],
   "source": [
    "# Execute your code for question 6 here\n",
    "# ---------------------------------\n",
    "library(dplyr)\n",
    "dim(df)\n",
    "df_house = df %>%\n",
    "    filter(chamber == \"house\") %>%\n",
    "    arrange(party,-age)\n",
    "dim(df_house)\n",
    "write.csv(df_house,\"df_house_reverse.csv\")\n",
    "df_senate = df %>%\n",
    "    filter(chamber == \"senate\") %>%\n",
    "    arrange(party,-age)       \n",
    "dim(df_senate)\n",
    "#print(df_house)\n",
    "write.csv(df_senate,\"df_senate_reverse.csv\")\n",
    "#Answers\n",
    "# HOUSE - AL: 46.1 , D:88.3 , I: 63.3, ID: 45.7 , L: 34.4, R:89.7\n",
    "# SENATE - AL: NA , D:95.1 , I: 71.3, ID: 66.9 , L: NA, R:98.1"
   ]
  },
  {
   "cell_type": "markdown",
   "metadata": {},
   "source": [
    "# Save your notebook, then `File > Close and Halt`"
   ]
  }
 ],
 "metadata": {
  "kernelspec": {
   "display_name": "R",
   "language": "R",
   "name": "ir"
  },
  "language_info": {
   "codemirror_mode": "r",
   "file_extension": ".r",
   "mimetype": "text/x-r-source",
   "name": "R",
   "pygments_lexer": "r",
   "version": "3.5.1"
  }
 },
 "nbformat": 4,
 "nbformat_minor": 2
}
